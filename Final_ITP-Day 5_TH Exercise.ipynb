{
 "cells": [
  {
   "cell_type": "markdown",
   "metadata": {
    "id": "EVe0yJGVjXSw"
   },
   "source": [
    "<table align=\"center\" width=100%>\n",
    "    <tr>\n",
    "        <td width=\"20%\">\n",
    "            <img src=\"homework.png\">\n",
    "        </td>\n",
    "        <td>\n",
    "            <div align=\"center\">\n",
    "                <font color=\"#21618C\" size=8px>\n",
    "                    <b> TakeHome<br>(Day 5)\n",
    "                    </b>\n",
    "                </font>\n",
    "            </div>\n",
    "        </td>\n",
    "        <td width=\"25%\">\n",
    "            <img src=\"NEW_GL_Logo.png\">\n",
    "        </td>\n",
    "    </tr>\n",
    "</table>"
   ]
  },
  {
   "cell_type": "markdown",
   "metadata": {
    "id": "YBsRmmTNjXSx"
   },
   "source": [
    "### Let's begin with some hands-on practice exercises"
   ]
  },
  {
   "cell_type": "markdown",
   "metadata": {
    "id": "94weSxBxjXSz"
   },
   "source": [
    "<table align=\"left\">\n",
    "    <tr>\n",
    "        <td width=\"6%\">\n",
    "            <img src=\"question_icon.png\">\n",
    "        </td>\n",
    "        <td>\n",
    "            <div align=\"left\", style=\"font-size:120%\">\n",
    "                <font color=\"#21618C\">\n",
    "                    <b>1. A list of words is given. Convert the words into uppercase (use lambda and map functions)</b>\n",
    "                </font>\n",
    "            </div>\n",
    "        </td>\n",
    "    </tr>\n",
    "</table>"
   ]
  },
  {
   "cell_type": "markdown",
   "metadata": {
    "id": "MT-mGTVvjXS0"
   },
   "source": [
    "<b>lsbool = ['True','FALse','tRUe','tRue','False','faLse','True']</b><br>\n",
    "<b>Output: ['TRUE', 'FALSE', 'TRUE', 'TRUE', 'FALSE', 'FALSE', 'TRUE']</b>"
   ]
  },
  {
   "cell_type": "code",
   "execution_count": 2,
   "metadata": {
    "id": "3vizWYOtjXS1"
   },
   "outputs": [],
   "source": [
    "lsbool = ['True','FALse','tRUe','tRue','False','faLse','True']"
   ]
  },
  {
   "cell_type": "code",
   "execution_count": 4,
   "metadata": {},
   "outputs": [
    {
     "data": {
      "text/plain": [
       "['TRUE', 'FALSE', 'TRUE', 'TRUE', 'FALSE', 'FALSE', 'TRUE']"
      ]
     },
     "execution_count": 4,
     "metadata": {},
     "output_type": "execute_result"
    }
   ],
   "source": [
    "list(map(lambda x:x.upper(),lsbool))"
   ]
  },
  {
   "cell_type": "markdown",
   "metadata": {
    "id": "VmJx6aEpjXS9"
   },
   "source": [
    "<table align=\"left\">\n",
    "    <tr>\n",
    "        <td width=\"6%\">\n",
    "            <img src=\"question_icon.png\">\n",
    "        </td>\n",
    "        <td>\n",
    "            <div align=\"left\", style=\"font-size:120%\">\n",
    "                <font color=\"#21618C\">\n",
    "                    <b>2. Write a function to print the height of students in the class (here count of students is not fixed)</b> \n",
    "                </font>\n",
    "            </div>\n",
    "        </td>\n",
    "    </tr>\n",
    "</table>"
   ]
  },
  {
   "cell_type": "code",
   "execution_count": 5,
   "metadata": {
    "id": "2EpFMQ6DjXS-"
   },
   "outputs": [
    {
     "name": "stdout",
     "output_type": "stream",
     "text": [
      "(1.9, 1.6, 1.8, 1.7, 1.5)\n"
     ]
    }
   ],
   "source": [
    "def height(*x):\n",
    "    print(x)\n",
    "\n",
    "height(1.9,1.6,1.8,1.7,1.5)    "
   ]
  },
  {
   "cell_type": "markdown",
   "metadata": {
    "id": "doEeVuVijXTB"
   },
   "source": [
    "<table align=\"left\">\n",
    "    <tr>\n",
    "        <td width=\"6%\">\n",
    "            <img src=\"question_icon.png\">\n",
    "        </td>\n",
    "        <td>\n",
    "            <div align=\"left\", style=\"font-size:120%\">\n",
    "                <font color=\"#21618C\">\n",
    "                    <b>3. Create a dictionary containing four lambda functions square, cube, squareroot, multiply by 2.</b>\n",
    "                    <br><br>\n",
    "                    <b>E.g. dict = {'Square': function for squaring, 'Cube': function for cube, 'Squareroot': function for squareroot, 'Double': function for double} and so on </b>\n",
    "                    <br><br>\n",
    "                    <b>Pass the values (input from the user) to the functions in the dictionary respectively. Then add the outputs of each function and print it.</b>\n",
    "                </font>\n",
    "            </div>\n",
    "        </td>\n",
    "    </tr>\n",
    "</table>"
   ]
  },
  {
   "cell_type": "code",
   "execution_count": 14,
   "metadata": {
    "id": "L_l-o9tFjXTC"
   },
   "outputs": [
    {
     "name": "stdout",
     "output_type": "stream",
     "text": [
      "Enter the nuber: 5\n",
      "Square 25\n",
      "Cube 125\n",
      "Squareroot 2.5\n",
      "Double 10\n",
      "162.5\n"
     ]
    }
   ],
   "source": [
    "x = {'Square':lambda m : m*m, 'Cube':lambda m : m**3, 'Squareroot':lambda m : m*0.5, 'Double':lambda m : m*2}\n",
    "add = 0\n",
    "num= int(input('Enter the nuber: '))\n",
    "for i in x:\n",
    "    ans = x[i](num)\n",
    "    print(i,ans)\n",
    "    add+=ans\n",
    "    \n",
    "print(add)"
   ]
  },
  {
   "cell_type": "markdown",
   "metadata": {
    "id": "3vOq84pojXTF"
   },
   "source": [
    "<table align=\"left\">\n",
    "    <tr>\n",
    "        <td width=\"6%\">\n",
    "            <img src=\"question_icon.png\">\n",
    "        </td>\n",
    "        <td>\n",
    "            <div align=\"left\", style=\"font-size:120%\">\n",
    "                <font color=\"#21618C\">\n",
    "                    <b>4. A list of words is given. Define a function to find the words from the list that have their second character in uppercase</b>\n",
    "                </font>\n",
    "            </div>\n",
    "        </td>\n",
    "    </tr>\n",
    "</table>"
   ]
  },
  {
   "cell_type": "markdown",
   "metadata": {
    "id": "JpJrkD7UjXTG"
   },
   "source": [
    "<b>ls = ['hello', 'Dear', 'hOw', 'ARe', 'You']</b><br>\n",
    "<b>Output: ['hOw', 'ARe']</b>"
   ]
  },
  {
   "cell_type": "code",
   "execution_count": 6,
   "metadata": {
    "id": "WwOAyQ1ojXTH"
   },
   "outputs": [
    {
     "data": {
      "text/plain": [
       "['hOw', 'ARe']"
      ]
     },
     "execution_count": 6,
     "metadata": {},
     "output_type": "execute_result"
    }
   ],
   "source": [
    "ls = ['hello', 'Dear', 'hOw', 'ARe', 'You']\n",
    "\n",
    "list(filter(lambda x:x[1].isupper(),ls))"
   ]
  },
  {
   "cell_type": "markdown",
   "metadata": {
    "id": "jVH6Daa6jXTM"
   },
   "source": [
    "<table align=\"left\">\n",
    "    <tr>\n",
    "        <td width=\"6%\">\n",
    "            <img src=\"question_icon.png\">\n",
    "        </td>\n",
    "        <td>\n",
    "            <div align=\"left\", style=\"font-size:120%\">\n",
    "                <font color=\"#21618C\">\n",
    "                    <b>5. Define a function to filter the marks from the tuple \"tmarks\" that are greater than 40 and print corresponding names from the \"tnames\" tuple</b>\n",
    "                </font>\n",
    "            </div>\n",
    "        </td>\n",
    "    </tr>\n",
    "</table>"
   ]
  },
  {
   "cell_type": "markdown",
   "metadata": {
    "id": "NHm0We8ejXTM"
   },
   "source": [
    "<b>tnames = ('John','Sharon','Jack','Annie')</b><br>\n",
    "<b>tmarks = (32,50,75,12)</b>"
   ]
  },
  {
   "cell_type": "code",
   "execution_count": 6,
   "metadata": {
    "id": "epmyeK_1jXTN"
   },
   "outputs": [
    {
     "data": {
      "text/plain": [
       "[('Sharon', 50), ('Jack', 75)]"
      ]
     },
     "execution_count": 6,
     "metadata": {},
     "output_type": "execute_result"
    }
   ],
   "source": [
    "tnames = ('John','Sharon','Jack','Annie')\n",
    "tmarks = (32,50,75,12)\n",
    "\n",
    "[(i,j) for i,j in zip(tnames,tmarks) if j>40]"
   ]
  },
  {
   "cell_type": "code",
   "execution_count": 8,
   "metadata": {},
   "outputs": [
    {
     "data": {
      "text/plain": [
       "[('John', False), ('Sharon', True), ('Jack', True), ('Annie', False)]"
      ]
     },
     "execution_count": 8,
     "metadata": {},
     "output_type": "execute_result"
    }
   ],
   "source": [
    "list(map(lambda x,y : (x,y>40), tnames,tmarks))"
   ]
  },
  {
   "cell_type": "markdown",
   "metadata": {
    "id": "28KeZqwojXTQ"
   },
   "source": [
    "<table align=\"left\">\n",
    "    <tr>\n",
    "        <td width=\"6%\">\n",
    "            <img src=\"question_icon.png\">\n",
    "        </td>\n",
    "        <td>\n",
    "            <div align=\"left\", style=\"font-size:120%\">\n",
    "                <font color=\"#21618C\">\n",
    "                    <b> 6. A dictionary of names and their weights on earth is given. Find how much they will weigh on the moon. (use map and lambda functions)</b><br> \n",
    "                </font>\n",
    "            </div>\n",
    "        </td>\n",
    "    </tr>\n",
    "</table>"
   ]
  },
  {
   "cell_type": "markdown",
   "metadata": {
    "id": "xlPrdxmvjXTQ"
   },
   "source": [
    "**Weight of people in kg**\n",
    "WeightOnEarth = {'John':45, 'Shelly':65, 'Marry':35}        \n",
    "\n",
    "**Gravitational force on the Moon**\n",
    "GMoon = 1.622                                              \n",
    "\n",
    "**Gravitational force on the Earth**\n",
    "GEarth = 9.81                                              \n",
    "\n",
    "**Output:** \n",
    "Weight on Moon:  {'John': 7.44, 'Shelly': 10.75, 'Marry': 5.79}"
   ]
  },
  {
   "cell_type": "code",
   "execution_count": 16,
   "metadata": {
    "id": "oKt5BglQjXTR"
   },
   "outputs": [
    {
     "name": "stdout",
     "output_type": "stream",
     "text": [
      "{'John': 7.440366972477065, 'Shelly': 10.747196738022426, 'Marry': 5.786952089704384}\n"
     ]
    }
   ],
   "source": [
    "WeightOnEarth = {'John':45, 'Shelly':65, 'Marry':35}\n",
    "\n",
    "GMoon = 1.622\n",
    "\n",
    "GEarth = 9.81\n",
    "\n",
    "Weight_on_moon = dict(map(lambda k,v: (k,(v/GEarth)*GMoon), WeightOnEarth.keys(),WeightOnEarth.values()))\n",
    "\n",
    "print(Weight_on_moon)"
   ]
  },
  {
   "cell_type": "markdown",
   "metadata": {
    "id": "e4fW_3YOjXTU"
   },
   "source": [
    "<table align=\"left\">\n",
    "    <tr>\n",
    "        <td width=\"6%\">\n",
    "            <img src=\"question_icon.png\">\n",
    "        </td>\n",
    "        <td>\n",
    "            <div align=\"left\", style=\"font-size:120%\">\n",
    "                <font color=\"#21618C\">\n",
    "                    <b> 7. A list containing multiple lists is given. Convert each inner list into sets and find intersection of all the sets (use reduce function)</b>\n",
    "                </font>\n",
    "            </div>\n",
    "        </td>\n",
    "    </tr>\n",
    "</table>"
   ]
  },
  {
   "cell_type": "markdown",
   "metadata": {
    "id": "uv5bgmQ_jXTU"
   },
   "source": [
    "<b>given_sets = [[1, 2, 3, 4, 8], [2, 3, 8, 5, 6], [8, 4, 5, 3, 7], [6, 9, 8, 3], [9, 12, 3, 7, 6, 8, 4, 6, 21, 1, 6]]</b><br>\n",
    "<b>Output: {8, 3}</b>"
   ]
  },
  {
   "cell_type": "code",
   "execution_count": 18,
   "metadata": {
    "id": "R8UtCsIvjXTV"
   },
   "outputs": [
    {
     "data": {
      "text/plain": [
       "[{1, 2, 3, 4, 8},\n",
       " {2, 3, 5, 6, 8},\n",
       " {3, 4, 5, 7, 8},\n",
       " {3, 6, 8, 9},\n",
       " {1, 3, 4, 6, 7, 8, 9, 12, 21}]"
      ]
     },
     "execution_count": 18,
     "metadata": {},
     "output_type": "execute_result"
    }
   ],
   "source": [
    "from functools import reduce\n",
    "\n",
    "given_sets = [[1, 2, 3, 4, 8], [2, 3, 8, 5, 6], [8, 4, 5, 3, 7], [6, 9, 8, 3], [9, 12, 3, 7, 6, 8, 4, 6, 21, 1, 6]]\n",
    "\n",
    "a = list(map(lambda x: set(x), given_sets))\n",
    "a"
   ]
  },
  {
   "cell_type": "code",
   "execution_count": 19,
   "metadata": {},
   "outputs": [
    {
     "data": {
      "text/plain": [
       "{3, 8}"
      ]
     },
     "execution_count": 19,
     "metadata": {},
     "output_type": "execute_result"
    }
   ],
   "source": [
    "reduce(lambda x,y: x.intersection(y), a)"
   ]
  },
  {
   "cell_type": "markdown",
   "metadata": {
    "id": "P8O7WkSEjXTY"
   },
   "source": [
    "<table align=\"left\">\n",
    "    <tr>\n",
    "        <td width=\"6%\">\n",
    "            <img src=\"question_icon.png\">\n",
    "        </td>\n",
    "        <td>\n",
    "            <div align=\"left\", style=\"font-size:120%\">\n",
    "                <font color=\"#21618C\"> \n",
    "                    <b> 8. Write a function to store the price of different products in the supermarket (number of products is not fixed)</b>\n",
    "                </font>\n",
    "            </div>\n",
    "        </td>\n",
    "    </tr>\n",
    "</table>"
   ]
  },
  {
   "cell_type": "code",
   "execution_count": 19,
   "metadata": {
    "id": "eVdDFVdbjXTZ"
   },
   "outputs": [],
   "source": [
    "def product(**info):\n",
    "    return info"
   ]
  },
  {
   "cell_type": "code",
   "execution_count": 23,
   "metadata": {},
   "outputs": [
    {
     "data": {
      "text/plain": [
       "{'Apple': 60, 'Orange': 50}"
      ]
     },
     "execution_count": 23,
     "metadata": {},
     "output_type": "execute_result"
    }
   ],
   "source": [
    "product(Apple = 60, Orange = 50)"
   ]
  },
  {
   "cell_type": "markdown",
   "metadata": {
    "id": "QLpiLCMCjXTb"
   },
   "source": [
    "<table align=\"left\">\n",
    "    <tr>\n",
    "        <td width=\"6%\">\n",
    "            <img src=\"question_icon.png\">\n",
    "        </td>\n",
    "        <td>\n",
    "            <div align=\"left\", style=\"font-size:120%\">\n",
    "                <font color=\"#21618C\">\n",
    "                    <b>9. Define a function to multiply two global variables, 16 and 12</b>  \n",
    "                </font>\n",
    "            </div>\n",
    "        </td>\n",
    "    </tr>\n",
    "</table>"
   ]
  },
  {
   "cell_type": "code",
   "execution_count": 20,
   "metadata": {
    "id": "WsG_6QBZjXTc"
   },
   "outputs": [
    {
     "data": {
      "text/plain": [
       "192"
      ]
     },
     "execution_count": 20,
     "metadata": {},
     "output_type": "execute_result"
    }
   ],
   "source": [
    "x = 12\n",
    "y = 16\n",
    "\n",
    "def multiply():\n",
    "    a = x*y\n",
    "    return a\n",
    "\n",
    "multiply()"
   ]
  },
  {
   "cell_type": "markdown",
   "metadata": {
    "id": "n1CBjc_JjXTf"
   },
   "source": [
    "<table align=\"left\">\n",
    "    <tr>\n",
    "        <td width=\"6%\">\n",
    "            <img src=\"question_icon.png\">\n",
    "        </td>\n",
    "        <td>\n",
    "            <div align=\"left\", style=\"font-size:120%\">\n",
    "                <font color=\"#21618C\">\n",
    "                    <b> 10. Find the cumulative average of the list [9,8,7,6,5] using accumulate() and lambda function</b>\n",
    "                </font>\n",
    "            </div>\n",
    "        </td>\n",
    "    </tr>\n",
    "</table>"
   ]
  },
  {
   "cell_type": "markdown",
   "metadata": {
    "id": "UBmQBuMYjXTf"
   },
   "source": [
    "<b>Input list: [9,8,7,6,5]</b>"
   ]
  },
  {
   "cell_type": "code",
   "execution_count": 1,
   "metadata": {
    "id": "kNbBCWZgjXTg"
   },
   "outputs": [
    {
     "data": {
      "text/plain": [
       "[9, 13.0, 16.5, 19.5, 22.0]"
      ]
     },
     "execution_count": 1,
     "metadata": {},
     "output_type": "execute_result"
    }
   ],
   "source": [
    "from itertools import accumulate\n",
    "\n",
    "a = [9,8,7,6,5]\n",
    "\n",
    "list(accumulate(a,lambda x,y: x+y/2))"
   ]
  }
 ],
 "metadata": {
  "colab": {
   "provenance": []
  },
  "kernelspec": {
   "display_name": "Python 3 (ipykernel)",
   "language": "python",
   "name": "python3"
  },
  "language_info": {
   "codemirror_mode": {
    "name": "ipython",
    "version": 3
   },
   "file_extension": ".py",
   "mimetype": "text/x-python",
   "name": "python",
   "nbconvert_exporter": "python",
   "pygments_lexer": "ipython3",
   "version": "3.9.12"
  }
 },
 "nbformat": 4,
 "nbformat_minor": 1
}
