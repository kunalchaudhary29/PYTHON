{
 "cells": [
  {
   "cell_type": "markdown",
   "id": "a0ce2120",
   "metadata": {},
   "source": [
    "## List Comprehension"
   ]
  },
  {
   "cell_type": "raw",
   "id": "e8284eb7",
   "metadata": {},
   "source": [
    "What is a list comprehension?\n",
    "● A list comprehension provides a concise way to create another list\n",
    "● Using list comprehensions reduces the number of code lines making it. It look more elegant\n",
    "● It is possible to use conditions in a list comprehension\n",
    "● The list comprehension always returns a list"
   ]
  },
  {
   "cell_type": "code",
   "execution_count": 1,
   "id": "2f772693",
   "metadata": {},
   "outputs": [
    {
     "data": {
      "text/plain": [
       "[4, 9, 16, 25]"
      ]
     },
     "execution_count": 1,
     "metadata": {},
     "output_type": "execute_result"
    }
   ],
   "source": [
    "li = [2,3,4,5]  #[4,9,16,25]\n",
    "l = []\n",
    "for i in li:\n",
    "    l.append(i**2)\n",
    "l    "
   ]
  },
  {
   "cell_type": "code",
   "execution_count": 2,
   "id": "bbc5364e",
   "metadata": {},
   "outputs": [
    {
     "data": {
      "text/plain": [
       "[4, 9, 16, 25]"
      ]
     },
     "execution_count": 2,
     "metadata": {},
     "output_type": "execute_result"
    }
   ],
   "source": [
    "[i**2 for i in li]"
   ]
  },
  {
   "cell_type": "code",
   "execution_count": 6,
   "id": "f58a8407",
   "metadata": {},
   "outputs": [
    {
     "data": {
      "text/plain": [
       "[7, 8, 9, 10]"
      ]
     },
     "execution_count": 6,
     "metadata": {},
     "output_type": "execute_result"
    }
   ],
   "source": [
    "# [7,8,9,10]\n",
    "\n",
    "l = [i+5 for i in li]\n",
    "l"
   ]
  },
  {
   "cell_type": "code",
   "execution_count": 7,
   "id": "0f9a9059",
   "metadata": {},
   "outputs": [
    {
     "data": {
      "text/plain": [
       "[1, 0, 1, 0]"
      ]
     },
     "execution_count": 7,
     "metadata": {},
     "output_type": "execute_result"
    }
   ],
   "source": [
    "[i%2 for i in l]"
   ]
  },
  {
   "cell_type": "code",
   "execution_count": null,
   "id": "d629ba6f",
   "metadata": {},
   "outputs": [],
   "source": [
    "# Syntax 1:   [value for value in iterable]                \n",
    "# Syntax 2:   [value for value in iterable if condition]   {used to filter the list}   \n",
    "# Syntax 3:   [val1 if cond else val2 for i in iterable]   {used to map the values over iterable}"
   ]
  },
  {
   "cell_type": "code",
   "execution_count": 3,
   "id": "1ef3a0b3",
   "metadata": {},
   "outputs": [
    {
     "data": {
      "text/plain": [
       "[10, 11, 12, 13, 14, 15]"
      ]
     },
     "execution_count": 3,
     "metadata": {},
     "output_type": "execute_result"
    }
   ],
   "source": [
    "[i for i in range(10,16)]  # Eg Syntax 1"
   ]
  },
  {
   "cell_type": "code",
   "execution_count": 4,
   "id": "e3828f26",
   "metadata": {},
   "outputs": [
    {
     "data": {
      "text/plain": [
       "[0, 1, 4, 9, 16]"
      ]
     },
     "execution_count": 4,
     "metadata": {},
     "output_type": "execute_result"
    }
   ],
   "source": [
    "[i**2 for i in range(5)]   # Eg Syntax 1"
   ]
  },
  {
   "cell_type": "code",
   "execution_count": 8,
   "id": "3467831f",
   "metadata": {},
   "outputs": [
    {
     "data": {
      "text/plain": [
       "[25, 45, 58, 14, 90]"
      ]
     },
     "execution_count": 8,
     "metadata": {},
     "output_type": "execute_result"
    }
   ],
   "source": [
    "[i+2 for i in [23,43,56,12,88]] # Eg syntax 1"
   ]
  },
  {
   "cell_type": "code",
   "execution_count": 13,
   "id": "cace2363",
   "metadata": {},
   "outputs": [
    {
     "data": {
      "text/plain": [
       "[3, 6, 9, 12, 15, 18, 21, 24]"
      ]
     },
     "execution_count": 13,
     "metadata": {},
     "output_type": "execute_result"
    }
   ],
   "source": [
    "# Create a list with multiple of 3 from 1 to 25\n",
    "\n",
    "li = []\n",
    "for i in range(1,26):\n",
    "    if i%3==0:       #filter\n",
    "        li.append(i)\n",
    "li        "
   ]
  },
  {
   "cell_type": "code",
   "execution_count": 10,
   "id": "6b418b50",
   "metadata": {},
   "outputs": [
    {
     "data": {
      "text/plain": [
       "[3, 6, 9, 12, 15, 18, 21, 24]"
      ]
     },
     "execution_count": 10,
     "metadata": {},
     "output_type": "execute_result"
    }
   ],
   "source": [
    "[i for i in range(1,26) if i%3==0]"
   ]
  },
  {
   "cell_type": "code",
   "execution_count": 11,
   "id": "e3b5fe83",
   "metadata": {},
   "outputs": [
    {
     "data": {
      "text/plain": [
       "[3, 6, 9, 12, 15, 18]"
      ]
     },
     "execution_count": 11,
     "metadata": {},
     "output_type": "execute_result"
    }
   ],
   "source": [
    "[i for i in range(1,21) if i%3==0] # Eg syntax 2"
   ]
  },
  {
   "cell_type": "code",
   "execution_count": 12,
   "id": "5631451d",
   "metadata": {},
   "outputs": [
    {
     "data": {
      "text/plain": [
       "[58, 14, 90]"
      ]
     },
     "execution_count": 12,
     "metadata": {},
     "output_type": "execute_result"
    }
   ],
   "source": [
    "[i+2 for i in [23,43,56,12,88] if i%2==0] # Eg syntax 2"
   ]
  },
  {
   "cell_type": "code",
   "execution_count": 21,
   "id": "dbca0f63",
   "metadata": {},
   "outputs": [
    {
     "data": {
      "text/plain": [
       "[46, 32, 66]"
      ]
     },
     "execution_count": 21,
     "metadata": {},
     "output_type": "execute_result"
    }
   ],
   "source": [
    "# filter\n",
    "li = [23,46,32,45,66]\n",
    "l = []\n",
    "for i in li:\n",
    "    if i%2==0:\n",
    "        l.append(i)\n",
    "l        "
   ]
  },
  {
   "cell_type": "code",
   "execution_count": 23,
   "id": "2956325b",
   "metadata": {},
   "outputs": [
    {
     "data": {
      "text/plain": [
       "[46, 32, 66]"
      ]
     },
     "execution_count": 23,
     "metadata": {},
     "output_type": "execute_result"
    }
   ],
   "source": [
    "[i for i in li if i%2==0]"
   ]
  },
  {
   "cell_type": "code",
   "execution_count": 22,
   "id": "5dd5f3c4",
   "metadata": {},
   "outputs": [
    {
     "data": {
      "text/plain": [
       "['Odd', 'Even', 'Even', 'Odd', 'Even']"
      ]
     },
     "execution_count": 22,
     "metadata": {},
     "output_type": "execute_result"
    }
   ],
   "source": [
    "# Map\n",
    "\n",
    "li = [23,46,32,45,66]\n",
    "l = []\n",
    "for i in li:\n",
    "    if i%2==0:\n",
    "        l.append('Even')\n",
    "    else:\n",
    "        l.append('Odd')\n",
    "l        "
   ]
  },
  {
   "cell_type": "code",
   "execution_count": 26,
   "id": "76858b30",
   "metadata": {},
   "outputs": [
    {
     "data": {
      "text/plain": [
       "['Odd', 'Even', 'Even', 'Odd', 'Even']"
      ]
     },
     "execution_count": 26,
     "metadata": {},
     "output_type": "execute_result"
    }
   ],
   "source": [
    "['Even' if i%2==0 else 'Odd' for i in li]"
   ]
  },
  {
   "cell_type": "code",
   "execution_count": 24,
   "id": "75bdf95c",
   "metadata": {},
   "outputs": [
    {
     "data": {
      "text/plain": [
       "[23, 43, 58, 14, 90]"
      ]
     },
     "execution_count": 24,
     "metadata": {},
     "output_type": "execute_result"
    }
   ],
   "source": [
    "[i+2 if i%2==0 else i for i in [23,43,56,12,88]] # Eg syntax 3"
   ]
  },
  {
   "cell_type": "code",
   "execution_count": 25,
   "id": "abde45ca",
   "metadata": {},
   "outputs": [
    {
     "data": {
      "text/plain": [
       "['Odd', 'Even', 'Odd', 'Even', 'Even', 'Odd', 'Even', 'Odd', 'Even']"
      ]
     },
     "execution_count": 25,
     "metadata": {},
     "output_type": "execute_result"
    }
   ],
   "source": [
    "['Odd' if i%2==1 else 'Even' for i in [3,6,9,12,18,21,24,27,30]]  # Eg syntax 3"
   ]
  },
  {
   "cell_type": "raw",
   "id": "b335d976",
   "metadata": {},
   "source": [
    "Q. Print a list between 1 to 50 where all the values are multiple of 3 and 5 both"
   ]
  },
  {
   "cell_type": "code",
   "execution_count": 14,
   "id": "263ea333",
   "metadata": {},
   "outputs": [
    {
     "data": {
      "text/plain": [
       "[15, 30, 45]"
      ]
     },
     "execution_count": 14,
     "metadata": {},
     "output_type": "execute_result"
    }
   ],
   "source": [
    "[i for i in range(1,51) if i%3==0 and i%5==0]"
   ]
  },
  {
   "cell_type": "raw",
   "id": "a034c6b0",
   "metadata": {},
   "source": [
    "Q. li = ['Apple','Kiwi','Mango','Banana','Papaya','Pear'] create a list of all the fruits which have 'a' in name"
   ]
  },
  {
   "cell_type": "code",
   "execution_count": 16,
   "id": "d73a101d",
   "metadata": {},
   "outputs": [],
   "source": [
    "li = ['Apple','Kiwi','Mango','Banana','Papaya','Pear']"
   ]
  },
  {
   "cell_type": "code",
   "execution_count": 17,
   "id": "259a14f1",
   "metadata": {},
   "outputs": [
    {
     "data": {
      "text/plain": [
       "['Mango', 'Banana', 'Papaya', 'Pear']"
      ]
     },
     "execution_count": 17,
     "metadata": {},
     "output_type": "execute_result"
    }
   ],
   "source": [
    "[i for i in li if 'a'in i]"
   ]
  },
  {
   "cell_type": "raw",
   "id": "3212ed53",
   "metadata": {},
   "source": [
    "Q. Create a new list with the no of characters in each fruit name"
   ]
  },
  {
   "cell_type": "code",
   "execution_count": 18,
   "id": "c63751d4",
   "metadata": {},
   "outputs": [
    {
     "data": {
      "text/plain": [
       "[5, 4, 5, 6, 6, 4]"
      ]
     },
     "execution_count": 18,
     "metadata": {},
     "output_type": "execute_result"
    }
   ],
   "source": [
    "[len(i) for i in li ]"
   ]
  },
  {
   "cell_type": "raw",
   "id": "5ea55c17",
   "metadata": {},
   "source": [
    "Q. Print the cube of first 10 numbers"
   ]
  },
  {
   "cell_type": "code",
   "execution_count": 19,
   "id": "fbb6348f",
   "metadata": {},
   "outputs": [
    {
     "data": {
      "text/plain": [
       "[0, 1, 8, 27, 64, 125, 216, 343, 512, 729]"
      ]
     },
     "execution_count": 19,
     "metadata": {},
     "output_type": "execute_result"
    }
   ],
   "source": [
    "[i**3 for i in range(10)]"
   ]
  },
  {
   "cell_type": "raw",
   "id": "9b347695",
   "metadata": {},
   "source": [
    "Q. strings = ['baby','muscle','dalmations101','hulk3','titanic']  create a list with value 'alphabet' if movie name has only alphabets and 'alphanumber' if movie name has alphabets and number"
   ]
  },
  {
   "cell_type": "code",
   "execution_count": 20,
   "id": "873b290c",
   "metadata": {},
   "outputs": [],
   "source": [
    "strings = ['baby','muscle','dalmations101','hulk3','titanic']"
   ]
  },
  {
   "cell_type": "code",
   "execution_count": 27,
   "id": "521b4cf2",
   "metadata": {},
   "outputs": [
    {
     "data": {
      "text/plain": [
       "['alphabet', 'alphabet', 'alphanumber', 'alphanumber', 'alphabet']"
      ]
     },
     "execution_count": 27,
     "metadata": {},
     "output_type": "execute_result"
    }
   ],
   "source": [
    "['alphabet' if i.isalpha() else 'alphanumber' for i in strings]"
   ]
  },
  {
   "cell_type": "raw",
   "id": "162e5bb8",
   "metadata": {},
   "source": [
    "Q. [-2,9,3,0,7,-4,0,5], create a list with values neg if number is negative pos if number is positive else zero."
   ]
  },
  {
   "cell_type": "code",
   "execution_count": 28,
   "id": "c57114e0",
   "metadata": {},
   "outputs": [
    {
     "data": {
      "text/plain": [
       "['neg', 'pos', 'pos', 'pos', 'pos', 'neg', 'pos', 'pos']"
      ]
     },
     "execution_count": 28,
     "metadata": {},
     "output_type": "execute_result"
    }
   ],
   "source": [
    "['neg' if i<0 else 'pos' for i in [-2,9,3,0,7,-4,0,5]] "
   ]
  },
  {
   "cell_type": "code",
   "execution_count": 29,
   "id": "e9d2ee13",
   "metadata": {},
   "outputs": [
    {
     "data": {
      "text/plain": [
       "['neg', 'pos', 'pos', 'zero', 'pos', 'neg', 'zero', 'pos']"
      ]
     },
     "execution_count": 29,
     "metadata": {},
     "output_type": "execute_result"
    }
   ],
   "source": [
    "['neg' if i<0 else 'pos' if i>0 else 'zero' for i in [-2,9,3,0,7,-4,0,5]] "
   ]
  },
  {
   "cell_type": "code",
   "execution_count": 30,
   "id": "2b5a8f96",
   "metadata": {},
   "outputs": [],
   "source": [
    "ph = [3.5,8.9,1.2,7,6.3,11,7]      # map acidic basic and neutral"
   ]
  },
  {
   "cell_type": "code",
   "execution_count": 31,
   "id": "904d8bae",
   "metadata": {},
   "outputs": [
    {
     "data": {
      "text/plain": [
       "['acidic', 'basic', 'acidic', 'neutral', 'acidic', 'basic', 'neutral']"
      ]
     },
     "execution_count": 31,
     "metadata": {},
     "output_type": "execute_result"
    }
   ],
   "source": [
    "['acidic' if i<7 else 'basic' if i>7 else 'neutral' for i in ph]"
   ]
  },
  {
   "cell_type": "raw",
   "id": "293fef9d",
   "metadata": {},
   "source": [
    "Q. name =['Ajay','Neha', 'Mukesh', 'Swati']\n",
    "marks = [67,89,90,76]\n",
    "create a dictionary with two lists using dictionary comprehension"
   ]
  },
  {
   "cell_type": "code",
   "execution_count": 32,
   "id": "33ec964d",
   "metadata": {},
   "outputs": [],
   "source": [
    "name =['Ajay','Neha', 'Mukesh', 'Swati']\n",
    "marks = [67,89,90,76]"
   ]
  },
  {
   "cell_type": "code",
   "execution_count": 34,
   "id": "9dd6a2a5",
   "metadata": {},
   "outputs": [
    {
     "data": {
      "text/plain": [
       "{'Ajay': 67, 'Neha': 89, 'Mukesh': 90, 'Swati': 76}"
      ]
     },
     "execution_count": 34,
     "metadata": {},
     "output_type": "execute_result"
    }
   ],
   "source": [
    "d = {}\n",
    "for k,v in zip(name,marks):\n",
    "    d[k] = v\n",
    "d    "
   ]
  },
  {
   "cell_type": "code",
   "execution_count": 33,
   "id": "0991e145",
   "metadata": {},
   "outputs": [
    {
     "data": {
      "text/plain": [
       "{'Ajay': 67, 'Neha': 89, 'Mukesh': 90, 'Swati': 76}"
      ]
     },
     "execution_count": 33,
     "metadata": {},
     "output_type": "execute_result"
    }
   ],
   "source": [
    "{k:v for k,v in zip(name,marks)}"
   ]
  },
  {
   "cell_type": "raw",
   "id": "d8c736a4",
   "metadata": {},
   "source": [
    "Q. create a dictionary where key is a fruit name and value is the length of the fruit name\n",
    "fruit = ['Apple','Kiwi','Mango','Banana','Papaya','Pear']"
   ]
  },
  {
   "cell_type": "code",
   "execution_count": 37,
   "id": "92728ce6",
   "metadata": {},
   "outputs": [
    {
     "data": {
      "text/plain": [
       "{'Apple': 5, 'Kiwi': 4, 'Mango': 5, 'Banana': 6, 'Papaya': 6, 'Pear': 4}"
      ]
     },
     "execution_count": 37,
     "metadata": {},
     "output_type": "execute_result"
    }
   ],
   "source": [
    "fruit = ['Apple','Kiwi','Mango','Banana','Papaya','Pear']\n",
    "\n",
    "{k:len(k) for k in fruit}"
   ]
  },
  {
   "cell_type": "raw",
   "id": "4df5f783",
   "metadata": {},
   "source": [
    "Q. Create above dictionary of those fruits only which ends with 'a'"
   ]
  },
  {
   "cell_type": "code",
   "execution_count": 38,
   "id": "9fbf29bc",
   "metadata": {},
   "outputs": [
    {
     "data": {
      "text/plain": [
       "{'Banana': 6, 'Papaya': 6}"
      ]
     },
     "execution_count": 38,
     "metadata": {},
     "output_type": "execute_result"
    }
   ],
   "source": [
    "{k:len(k) for k in fruit if k.endswith('a')}"
   ]
  },
  {
   "cell_type": "raw",
   "id": "4969286b",
   "metadata": {},
   "source": [
    "Q. create a dictionary where key is a fruit name and value is odd if length of the fruit name is odd else even"
   ]
  },
  {
   "cell_type": "code",
   "execution_count": 41,
   "id": "575d57eb",
   "metadata": {},
   "outputs": [
    {
     "data": {
      "text/plain": [
       "{'Apple': 'Odd',\n",
       " 'Kiwi': 'Even',\n",
       " 'Mango': 'Odd',\n",
       " 'Banana': 'Even',\n",
       " 'Papaya': 'Even',\n",
       " 'Pear': 'Even'}"
      ]
     },
     "execution_count": 41,
     "metadata": {},
     "output_type": "execute_result"
    }
   ],
   "source": [
    "{k:'Even'if len(k)%2==0 else 'Odd' for k in fruit}"
   ]
  },
  {
   "cell_type": "raw",
   "id": "7b076090",
   "metadata": {},
   "source": [
    "Q. [[1,2,3],[1,2,3],[1,2,3]]"
   ]
  },
  {
   "cell_type": "code",
   "execution_count": 42,
   "id": "32754650",
   "metadata": {},
   "outputs": [
    {
     "data": {
      "text/plain": [
       "[[1, 2, 3], [1, 2, 3], [1, 2, 3]]"
      ]
     },
     "execution_count": 42,
     "metadata": {},
     "output_type": "execute_result"
    }
   ],
   "source": [
    "[[i for i in range(1,4)] for j in range(3)]"
   ]
  },
  {
   "cell_type": "code",
   "execution_count": 43,
   "id": "2589d7aa",
   "metadata": {},
   "outputs": [
    {
     "data": {
      "text/plain": [
       "[[1, 2, 3], [1, 2, 3], [1, 2, 3]]"
      ]
     },
     "execution_count": 43,
     "metadata": {},
     "output_type": "execute_result"
    }
   ],
   "source": [
    "[[1,2,3]]*3"
   ]
  }
 ],
 "metadata": {
  "kernelspec": {
   "display_name": "Python 3 (ipykernel)",
   "language": "python",
   "name": "python3"
  },
  "language_info": {
   "codemirror_mode": {
    "name": "ipython",
    "version": 3
   },
   "file_extension": ".py",
   "mimetype": "text/x-python",
   "name": "python",
   "nbconvert_exporter": "python",
   "pygments_lexer": "ipython3",
   "version": "3.9.12"
  }
 },
 "nbformat": 4,
 "nbformat_minor": 5
}
