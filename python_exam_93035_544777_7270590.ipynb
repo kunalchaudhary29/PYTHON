{
 "cells": [
  {
   "cell_type": "markdown",
   "metadata": {
    "id": "tk6x8fIQwOMz"
   },
   "source": [
    "# INTRODUCTION TO PYTHON MID EXAM"
   ]
  },
  {
   "cell_type": "markdown",
   "metadata": {},
   "source": [
    "# Total -  50 Marks"
   ]
  },
  {
   "cell_type": "markdown",
   "metadata": {
    "id": "pC_8dpw3wOM9"
   },
   "source": [
    "# SECTION A: 8 MARKS"
   ]
  },
  {
   "cell_type": "markdown",
   "metadata": {
    "id": "2o-XCvgMwOM9"
   },
   "source": [
    " _________________"
   ]
  },
  {
   "cell_type": "markdown",
   "metadata": {
    "id": "IhKMetxqwOM-"
   },
   "source": [
    "### 1.What are the Immutable and Mutable built-in datatypes of Python Explain the feature immutable with suitable code(8 Marks)"
   ]
  },
  {
   "cell_type": "markdown",
   "metadata": {},
   "source": [
    "### Mutable "
   ]
  },
  {
   "cell_type": "raw",
   "metadata": {},
   "source": [
    "Mutable Datatypes are those in which there element we can modify after any operation.\n",
    "\n",
    "For Ex: In a list named li = [23,56,89,47] we can give li[1] = 65, this will change the value from list whose index is 1           that 56 to 65. Now modified list is li = [23,65,89,47]\n",
    "\n",
    "Mutable Types: List, tuple, dictionary "
   ]
  },
  {
   "cell_type": "markdown",
   "metadata": {},
   "source": [
    "### Immutable"
   ]
  },
  {
   "cell_type": "raw",
   "metadata": {},
   "source": [
    "Immutable Datatypes are those in which there element we can't modify after any operation.\n",
    "\n",
    "For Ex: Given an string s = 'Hello', if we have to change 2nd word to 'f' , we can't do this like that s[1]='f'. \n",
    "\n",
    "Immutable: String, Set"
   ]
  },
  {
   "cell_type": "markdown",
   "metadata": {
    "id": "lzZpLpypwOM-"
   },
   "source": [
    "# SECTION B: 17 MARKS"
   ]
  },
  {
   "cell_type": "markdown",
   "metadata": {
    "id": "tJjwpEFhwOM_"
   },
   "source": [
    "---------------------"
   ]
  },
  {
   "cell_type": "markdown",
   "metadata": {
    "id": "AY1UV4uswOM_"
   },
   "source": [
    "### 2. Write a program for binary algebra. Accept two numbers. Convert them to binary and display addition and substraction? ( 7 Marks)\n",
    "    \n"
   ]
  },
  {
   "cell_type": "raw",
   "metadata": {},
   "source": [
    "**** Expected Output ****\n",
    "Enter first number3\n",
    "Enter second number4\n",
    "Binary equivalent of number1 0b11\n",
    "Binary equivalent of number2 0b100\n",
    "Addition is = 0b110b100 Substraction is = -0b1"
   ]
  },
  {
   "cell_type": "code",
   "execution_count": 13,
   "metadata": {},
   "outputs": [
    {
     "name": "stdout",
     "output_type": "stream",
     "text": [
      "Enter first number: 3\n",
      "Enter second number: 4\n",
      "0b11\n",
      "0b100\n",
      "Sum of binary equivalents of a & b is:  0b110b100\n",
      "Subtraction of binary equivalents of a & b is:  -0b1\n"
     ]
    }
   ],
   "source": [
    "a = int(input('Enter first number: '))\n",
    "b = int(input('Enter second number: '))\n",
    "\n",
    "print(bin(a))\n",
    "print(bin(b))\n",
    "\n",
    "add = bin(a) + bin(b)\n",
    "sub = bin(a - b)\n",
    "\n",
    "print('Sum of binary equivalents of a & b is: ', add)\n",
    "print('Subtraction of binary equivalents of a & b is: ', sub)"
   ]
  },
  {
   "cell_type": "markdown",
   "metadata": {
    "id": "iVv_AndAwONA"
   },
   "source": [
    "### 3.Write a code to accept full name as a combination of first name and last name seperated by space. Accept gender from user. Add appropriate salutation (Mr./Ms.) to the name. Display the output as given below? (5 Marks)"
   ]
  },
  {
   "cell_type": "raw",
   "metadata": {},
   "source": [
    "**** Expected Output ****\n",
    "Enter Full name as first name last namesani sharma\n",
    "Enter Gender (Male/Female)female\n",
    "Dear Ms.Sani, How are you?"
   ]
  },
  {
   "cell_type": "code",
   "execution_count": 19,
   "metadata": {},
   "outputs": [
    {
     "name": "stdout",
     "output_type": "stream",
     "text": [
      "Enter First Name: ani\n",
      "Enter Last Name: sharma\n",
      "Enter Gender(M/F): m\n",
      "Dear Ms. ani ,How are you?\n"
     ]
    }
   ],
   "source": [
    "name_f = input('Enter First Name: ')\n",
    "name_l = input('Enter Last Name: ')\n",
    "gen = input('Enter Gender(M/F): ')\n",
    "\n",
    "if (gen==gen.upper()):\n",
    "    print('Dear Mr.',name_f,', How are you?')\n",
    "else:\n",
    "    print('Dear Ms.',name_f,',How are you?')"
   ]
  },
  {
   "cell_type": "markdown",
   "metadata": {
    "id": "y8clA5NewONB"
   },
   "source": [
    "### 4.  Write a code to add “alpha”:26 to the existing dictionary. (5 Marks)\n",
    "dic={'Eddy':13,'Maria':44,'Jas':21}"
   ]
  },
  {
   "cell_type": "code",
   "execution_count": 10,
   "metadata": {},
   "outputs": [
    {
     "data": {
      "text/plain": [
       "{'Eddy': 13, 'Maria': 44, 'Jas': 21, 'alpha': 26}"
      ]
     },
     "execution_count": 10,
     "metadata": {},
     "output_type": "execute_result"
    }
   ],
   "source": [
    "dic = {'Eddy':13, 'Maria':44, 'Jas':21}\n",
    "dic['alpha'] = 26\n",
    "dic"
   ]
  },
  {
   "cell_type": "markdown",
   "metadata": {
    "id": "IhDPiRcMwONB"
   },
   "source": [
    "# SECTION C: 25 MARKS"
   ]
  },
  {
   "cell_type": "markdown",
   "metadata": {
    "id": "UFb7os5OwONC"
   },
   "source": [
    "### 5. Write a python program. Suppose the input=6 Then, the output should be:\n",
    "### {1: 1, 2: 4, 3: 9, 4: 16, 5: 25, 6: 36} (5 Marks)"
   ]
  },
  {
   "cell_type": "code",
   "execution_count": 30,
   "metadata": {},
   "outputs": [
    {
     "name": "stdout",
     "output_type": "stream",
     "text": [
      "Enter a number: 6\n"
     ]
    },
    {
     "ename": "TypeError",
     "evalue": "cannot unpack non-iterable int object",
     "output_type": "error",
     "traceback": [
      "\u001b[0;31m---------------------------------------------------------------------------\u001b[0m",
      "\u001b[0;31mTypeError\u001b[0m                                 Traceback (most recent call last)",
      "\u001b[0;32m<ipython-input-30-e5a07df4429a>\u001b[0m in \u001b[0;36m<module>\u001b[0;34m\u001b[0m\n\u001b[1;32m      2\u001b[0m \u001b[0md\u001b[0m\u001b[0;34m=\u001b[0m\u001b[0;34m{\u001b[0m\u001b[0;34m}\u001b[0m\u001b[0;34m\u001b[0m\u001b[0;34m\u001b[0m\u001b[0m\n\u001b[1;32m      3\u001b[0m \u001b[0;34m\u001b[0m\u001b[0m\n\u001b[0;32m----> 4\u001b[0;31m \u001b[0;32mfor\u001b[0m \u001b[0mk\u001b[0m\u001b[0;34m,\u001b[0m\u001b[0mv\u001b[0m \u001b[0;32min\u001b[0m \u001b[0mrange\u001b[0m\u001b[0;34m(\u001b[0m\u001b[0;36m1\u001b[0m\u001b[0;34m,\u001b[0m\u001b[0mn\u001b[0m\u001b[0;34m+\u001b[0m\u001b[0;36m1\u001b[0m\u001b[0;34m)\u001b[0m\u001b[0;34m:\u001b[0m\u001b[0;34m\u001b[0m\u001b[0;34m\u001b[0m\u001b[0m\n\u001b[0m\u001b[1;32m      5\u001b[0m \u001b[0;34m\u001b[0m\u001b[0m\n\u001b[1;32m      6\u001b[0m     \u001b[0md\u001b[0m\u001b[0;34m[\u001b[0m\u001b[0mk\u001b[0m\u001b[0;34m]\u001b[0m \u001b[0;34m=\u001b[0m \u001b[0mv\u001b[0m\u001b[0;34m\u001b[0m\u001b[0;34m\u001b[0m\u001b[0m\n",
      "\u001b[0;31mTypeError\u001b[0m: cannot unpack non-iterable int object"
     ]
    }
   ],
   "source": [
    "n = int(input('Enter a number: '))\n",
    "d={}\n",
    "\n",
    "for k,v in range(1,n+1):\n",
    "    \n",
    "    d[k] = v\n",
    "    v = k**2\n",
    "    print(d)"
   ]
  },
  {
   "cell_type": "markdown",
   "metadata": {
    "id": "QVKkv-5ywONC"
   },
   "source": [
    "### 6. Write a code to find the factors of  a given number? Write Recursive and non-recursive codes (10 Marks)"
   ]
  },
  {
   "cell_type": "code",
   "execution_count": null,
   "metadata": {},
   "outputs": [],
   "source": [
    "num "
   ]
  },
  {
   "cell_type": "markdown",
   "metadata": {
    "id": "QVKkv-5ywONC"
   },
   "source": [
    "### 7. For a given nested list find out the maximum element and calculate average of all elements. Use the given list?         list1 = [[20,25,30],[10,15,18],[12,45,20],35,20,23,28] (10 Marks)"
   ]
  },
  {
   "cell_type": "raw",
   "metadata": {},
   "source": [
    "**** Expected OUtput ****\n",
    "The maximum of the nested list is 45\n",
    "The average is 23.15"
   ]
  },
  {
   "cell_type": "code",
   "execution_count": 27,
   "metadata": {},
   "outputs": [
    {
     "name": "stdout",
     "output_type": "stream",
     "text": [
      "Maximum of list:  []\n"
     ]
    }
   ],
   "source": [
    "li = [[20,25,30],[10,15,18],[12,45,20],35,20,23,28]\n",
    "a = []\n",
    "\n",
    "for i in a:\n",
    "    a.append(max(li))\n",
    "    \n",
    "print('Maximum of list: ',a)"
   ]
  },
  {
   "cell_type": "code",
   "execution_count": null,
   "metadata": {},
   "outputs": [],
   "source": []
  }
 ],
 "metadata": {
  "colab": {
   "name": "ITP_MID_EXAM_SET_5_WITH_SOLUTION.ipynb",
   "provenance": []
  },
  "kernelspec": {
   "display_name": "Python 3 (ipykernel)",
   "language": "python",
   "name": "python3"
  },
  "language_info": {
   "codemirror_mode": {
    "name": "ipython",
    "version": 3
   },
   "file_extension": ".py",
   "mimetype": "text/x-python",
   "name": "python",
   "nbconvert_exporter": "python",
   "pygments_lexer": "ipython3",
   "version": "3.9.12"
  }
 },
 "nbformat": 4,
 "nbformat_minor": 1
}
