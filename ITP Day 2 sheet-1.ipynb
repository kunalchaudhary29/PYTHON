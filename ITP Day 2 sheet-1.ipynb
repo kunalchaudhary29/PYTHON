{
 "cells": [
  {
   "cell_type": "markdown",
   "id": "5c7f0696",
   "metadata": {},
   "source": [
    "## Topics day 2\n",
    "* String Handling\n",
    "* Data Slicing\n",
    "* List\n",
    "* Tuple\n",
    "* Dictionary"
   ]
  },
  {
   "cell_type": "markdown",
   "id": "fa0e07f3",
   "metadata": {},
   "source": [
    "### String Handling"
   ]
  },
  {
   "cell_type": "markdown",
   "id": "6c1dbce1",
   "metadata": {},
   "source": [
    "* Strings are sequence of characters\n",
    "* Strings are immutable\n",
    "* Characters in the strings are indexed"
   ]
  },
  {
   "cell_type": "code",
   "execution_count": 1,
   "id": "2b8edec9",
   "metadata": {},
   "outputs": [],
   "source": [
    "name = 'Ajay'    # defining a string"
   ]
  },
  {
   "cell_type": "code",
   "execution_count": 2,
   "id": "e61de210",
   "metadata": {},
   "outputs": [
    {
     "data": {
      "text/plain": [
       "'Ajay'"
      ]
     },
     "execution_count": 2,
     "metadata": {},
     "output_type": "execute_result"
    }
   ],
   "source": [
    "name"
   ]
  },
  {
   "cell_type": "code",
   "execution_count": 3,
   "id": "ebdb3489",
   "metadata": {},
   "outputs": [
    {
     "data": {
      "text/plain": [
       "str"
      ]
     },
     "execution_count": 3,
     "metadata": {},
     "output_type": "execute_result"
    }
   ],
   "source": [
    "type(name)"
   ]
  },
  {
   "cell_type": "code",
   "execution_count": 4,
   "id": "a543b86c",
   "metadata": {},
   "outputs": [
    {
     "data": {
      "text/plain": [
       "4"
      ]
     },
     "execution_count": 4,
     "metadata": {},
     "output_type": "execute_result"
    }
   ],
   "source": [
    "len(name)"
   ]
  },
  {
   "cell_type": "code",
   "execution_count": 5,
   "id": "8d55f36f",
   "metadata": {},
   "outputs": [],
   "source": [
    "string = 'Great Learning'"
   ]
  },
  {
   "cell_type": "code",
   "execution_count": 6,
   "id": "0638172e",
   "metadata": {},
   "outputs": [
    {
     "data": {
      "text/plain": [
       "'e'"
      ]
     },
     "execution_count": 6,
     "metadata": {},
     "output_type": "execute_result"
    }
   ],
   "source": [
    "string[2]"
   ]
  },
  {
   "cell_type": "code",
   "execution_count": 46,
   "id": "afcfa4af",
   "metadata": {},
   "outputs": [],
   "source": [
    "# .replace()"
   ]
  },
  {
   "cell_type": "code",
   "execution_count": 7,
   "id": "79bfad5f",
   "metadata": {},
   "outputs": [],
   "source": [
    "s = 'hello'"
   ]
  },
  {
   "cell_type": "code",
   "execution_count": 8,
   "id": "9971417a",
   "metadata": {},
   "outputs": [
    {
     "data": {
      "text/plain": [
       "'hello'"
      ]
     },
     "execution_count": 8,
     "metadata": {},
     "output_type": "execute_result"
    }
   ],
   "source": [
    "s"
   ]
  },
  {
   "cell_type": "code",
   "execution_count": 9,
   "id": "89b73a61",
   "metadata": {},
   "outputs": [
    {
     "data": {
      "text/plain": [
       "'heLLo'"
      ]
     },
     "execution_count": 9,
     "metadata": {},
     "output_type": "execute_result"
    }
   ],
   "source": [
    "s.replace('l','L')   # it only modifies and display the result, it doesn't change the existing string (IMMUTABLE)"
   ]
  },
  {
   "cell_type": "code",
   "execution_count": 10,
   "id": "1f5e1d7c",
   "metadata": {},
   "outputs": [
    {
     "data": {
      "text/plain": [
       "'hello'"
      ]
     },
     "execution_count": 10,
     "metadata": {},
     "output_type": "execute_result"
    }
   ],
   "source": [
    "s"
   ]
  },
  {
   "cell_type": "code",
   "execution_count": 11,
   "id": "e77256e7",
   "metadata": {},
   "outputs": [],
   "source": [
    "a = 'missisippi'"
   ]
  },
  {
   "cell_type": "code",
   "execution_count": 12,
   "id": "40458c53",
   "metadata": {},
   "outputs": [
    {
     "data": {
      "text/plain": [
       "'mIssIsIppI'"
      ]
     },
     "execution_count": 12,
     "metadata": {},
     "output_type": "execute_result"
    }
   ],
   "source": [
    "a.replace('i','I')"
   ]
  },
  {
   "cell_type": "code",
   "execution_count": 13,
   "id": "a61748bb",
   "metadata": {},
   "outputs": [
    {
     "data": {
      "text/plain": [
       "'missisippi'"
      ]
     },
     "execution_count": 13,
     "metadata": {},
     "output_type": "execute_result"
    }
   ],
   "source": [
    "a"
   ]
  },
  {
   "cell_type": "code",
   "execution_count": 17,
   "id": "a46a7fad",
   "metadata": {},
   "outputs": [
    {
     "data": {
      "text/plain": [
       "'mIssIsIppi'"
      ]
     },
     "execution_count": 17,
     "metadata": {},
     "output_type": "execute_result"
    }
   ],
   "source": [
    "a.replace('i','I',3)"
   ]
  },
  {
   "cell_type": "code",
   "execution_count": 18,
   "id": "657faa0b",
   "metadata": {},
   "outputs": [],
   "source": [
    "place = 'Old Delhi'"
   ]
  },
  {
   "cell_type": "code",
   "execution_count": 19,
   "id": "686e8df5",
   "metadata": {},
   "outputs": [
    {
     "data": {
      "text/plain": [
       "'New Delhi'"
      ]
     },
     "execution_count": 19,
     "metadata": {},
     "output_type": "execute_result"
    }
   ],
   "source": [
    "place.replace('Old','New')"
   ]
  },
  {
   "cell_type": "code",
   "execution_count": 59,
   "id": "68de8489",
   "metadata": {},
   "outputs": [],
   "source": [
    "# .lower(), .upper()"
   ]
  },
  {
   "cell_type": "code",
   "execution_count": 20,
   "id": "aba001cf",
   "metadata": {},
   "outputs": [
    {
     "data": {
      "text/plain": [
       "'HELLO'"
      ]
     },
     "execution_count": 20,
     "metadata": {},
     "output_type": "execute_result"
    }
   ],
   "source": [
    "'hello'.upper()"
   ]
  },
  {
   "cell_type": "code",
   "execution_count": 21,
   "id": "25783253",
   "metadata": {},
   "outputs": [
    {
     "data": {
      "text/plain": [
       "'OLD DELHI'"
      ]
     },
     "execution_count": 21,
     "metadata": {},
     "output_type": "execute_result"
    }
   ],
   "source": [
    "place.upper()"
   ]
  },
  {
   "cell_type": "code",
   "execution_count": 22,
   "id": "24bb9862",
   "metadata": {},
   "outputs": [
    {
     "data": {
      "text/plain": [
       "'hello'"
      ]
     },
     "execution_count": 22,
     "metadata": {},
     "output_type": "execute_result"
    }
   ],
   "source": [
    "'HELLO'.lower()"
   ]
  },
  {
   "cell_type": "code",
   "execution_count": 23,
   "id": "efdce501",
   "metadata": {},
   "outputs": [
    {
     "data": {
      "text/plain": [
       "'old delhi'"
      ]
     },
     "execution_count": 23,
     "metadata": {},
     "output_type": "execute_result"
    }
   ],
   "source": [
    "place.lower()"
   ]
  },
  {
   "cell_type": "code",
   "execution_count": 25,
   "id": "03cb0bbe",
   "metadata": {},
   "outputs": [
    {
     "data": {
      "text/plain": [
       "'oLD dELHI'"
      ]
     },
     "execution_count": 25,
     "metadata": {},
     "output_type": "execute_result"
    }
   ],
   "source": [
    "place.swapcase()            # it converts lower to upper, upper to lower"
   ]
  },
  {
   "cell_type": "code",
   "execution_count": 27,
   "id": "f30364b9",
   "metadata": {},
   "outputs": [
    {
     "data": {
      "text/plain": [
       "'MISSISIPPI'"
      ]
     },
     "execution_count": 27,
     "metadata": {},
     "output_type": "execute_result"
    }
   ],
   "source": [
    "a.swapcase()"
   ]
  },
  {
   "cell_type": "code",
   "execution_count": 29,
   "id": "48a038f3",
   "metadata": {},
   "outputs": [
    {
     "data": {
      "text/plain": [
       "'Hello My Dear Friend'"
      ]
     },
     "execution_count": 29,
     "metadata": {},
     "output_type": "execute_result"
    }
   ],
   "source": [
    "'Hello my dear friend'.title()   # it makes every words first word uppercase"
   ]
  },
  {
   "cell_type": "code",
   "execution_count": 30,
   "id": "d5180c74",
   "metadata": {},
   "outputs": [
    {
     "data": {
      "text/plain": [
       "'Lets go to a movie sometime'"
      ]
     },
     "execution_count": 30,
     "metadata": {},
     "output_type": "execute_result"
    }
   ],
   "source": [
    "'lets go to a movie sometime'.capitalize()   # it makes only 1st character capital"
   ]
  },
  {
   "cell_type": "code",
   "execution_count": 26,
   "id": "80e214db",
   "metadata": {},
   "outputs": [],
   "source": [
    "# .lstrip(), .strip(), .rstrip()"
   ]
  },
  {
   "cell_type": "code",
   "execution_count": 31,
   "id": "2447437e",
   "metadata": {},
   "outputs": [],
   "source": [
    "string = '******hello my *** friend*****'"
   ]
  },
  {
   "cell_type": "code",
   "execution_count": 32,
   "id": "e8897dcc",
   "metadata": {},
   "outputs": [
    {
     "data": {
      "text/plain": [
       "'hello my *** friend*****'"
      ]
     },
     "execution_count": 32,
     "metadata": {},
     "output_type": "execute_result"
    }
   ],
   "source": [
    "string.lstrip('*')"
   ]
  },
  {
   "cell_type": "code",
   "execution_count": 33,
   "id": "15cfd758",
   "metadata": {},
   "outputs": [
    {
     "data": {
      "text/plain": [
       "'******hello my *** friend'"
      ]
     },
     "execution_count": 33,
     "metadata": {},
     "output_type": "execute_result"
    }
   ],
   "source": [
    "string.rstrip('*')"
   ]
  },
  {
   "cell_type": "code",
   "execution_count": 34,
   "id": "ebe540d4",
   "metadata": {},
   "outputs": [
    {
     "data": {
      "text/plain": [
       "'hello my *** friend'"
      ]
     },
     "execution_count": 34,
     "metadata": {},
     "output_type": "execute_result"
    }
   ],
   "source": [
    "string.strip('*')"
   ]
  },
  {
   "cell_type": "code",
   "execution_count": 35,
   "id": "09425691",
   "metadata": {},
   "outputs": [],
   "source": [
    "string = '*** ***//Welcome to the club ///*****'"
   ]
  },
  {
   "cell_type": "code",
   "execution_count": 37,
   "id": "7267f3e8",
   "metadata": {},
   "outputs": [
    {
     "data": {
      "text/plain": [
       "'Welcome to the club'"
      ]
     },
     "execution_count": 37,
     "metadata": {},
     "output_type": "execute_result"
    }
   ],
   "source": [
    "string.strip('* /')"
   ]
  },
  {
   "cell_type": "code",
   "execution_count": 38,
   "id": "261648c3",
   "metadata": {},
   "outputs": [
    {
     "data": {
      "text/plain": [
       "'Welcome to the club ///*****'"
      ]
     },
     "execution_count": 38,
     "metadata": {},
     "output_type": "execute_result"
    }
   ],
   "source": [
    "string.lstrip('/ *')"
   ]
  },
  {
   "cell_type": "code",
   "execution_count": 39,
   "id": "e7d93673",
   "metadata": {},
   "outputs": [
    {
     "data": {
      "text/plain": [
       "'*** ***//Welcome to the club'"
      ]
     },
     "execution_count": 39,
     "metadata": {},
     "output_type": "execute_result"
    }
   ],
   "source": [
    "string.rstrip('* /')"
   ]
  },
  {
   "cell_type": "code",
   "execution_count": 41,
   "id": "a6a919e2",
   "metadata": {},
   "outputs": [],
   "source": [
    "# .split(), .join()"
   ]
  },
  {
   "cell_type": "code",
   "execution_count": 40,
   "id": "4db08e68",
   "metadata": {},
   "outputs": [
    {
     "data": {
      "text/plain": [
       "['hello', 'my', 'dear', 'friend']"
      ]
     },
     "execution_count": 40,
     "metadata": {},
     "output_type": "execute_result"
    }
   ],
   "source": [
    "'hello my dear friend'.split()"
   ]
  },
  {
   "cell_type": "code",
   "execution_count": 44,
   "id": "e293c3aa",
   "metadata": {},
   "outputs": [
    {
     "data": {
      "text/plain": [
       "['Hello nitin', ' Lets meet sometime', ' We need to discuss the plan', '']"
      ]
     },
     "execution_count": 44,
     "metadata": {},
     "output_type": "execute_result"
    }
   ],
   "source": [
    "'Hello nitin. Lets meet sometime. We need to discuss the plan.'.split(sep='.')"
   ]
  },
  {
   "cell_type": "code",
   "execution_count": 43,
   "id": "e9a07097",
   "metadata": {},
   "outputs": [
    {
     "data": {
      "text/plain": [
       "['mary ', ' james ', ' robin ', ' mike']"
      ]
     },
     "execution_count": 43,
     "metadata": {},
     "output_type": "execute_result"
    }
   ],
   "source": [
    "'mary and james and robin and mike'.split(sep='and')"
   ]
  },
  {
   "cell_type": "code",
   "execution_count": 46,
   "id": "4fca27cf",
   "metadata": {},
   "outputs": [
    {
     "data": {
      "text/plain": [
       "['Hey', 'lets', 'play', 'football']"
      ]
     },
     "execution_count": 46,
     "metadata": {},
     "output_type": "execute_result"
    }
   ],
   "source": [
    "['Hey', 'lets', 'play', 'football']"
   ]
  },
  {
   "cell_type": "code",
   "execution_count": 47,
   "id": "8b69657e",
   "metadata": {},
   "outputs": [
    {
     "data": {
      "text/plain": [
       "'Hey lets play football'"
      ]
     },
     "execution_count": 47,
     "metadata": {},
     "output_type": "execute_result"
    }
   ],
   "source": [
    "' '.join(['Hey', 'lets', 'play', 'football'])"
   ]
  },
  {
   "cell_type": "code",
   "execution_count": 48,
   "id": "fab8c517",
   "metadata": {},
   "outputs": [
    {
     "data": {
      "text/plain": [
       "'23/Aug/2023'"
      ]
     },
     "execution_count": 48,
     "metadata": {},
     "output_type": "execute_result"
    }
   ],
   "source": [
    "'/'.join(['23','Aug','2023'])"
   ]
  },
  {
   "cell_type": "markdown",
   "id": "ca626621",
   "metadata": {},
   "source": [
    "### Data Slicing"
   ]
  },
  {
   "attachments": {
    "image.png": {
     "image/png": "[encoded data removed]"
    }
   },
   "cell_type": "markdown",
   "id": "c8a1f614",
   "metadata": {},
   "source": [
    "#### Indexing in strings\n",
    "\t\t\t\t\t\t\t\t\t\t\t\t\t\n",
    "![image.png](attachment:image.png)"
   ]
  },
  {
   "cell_type": "code",
   "execution_count": 49,
   "id": "5bacbcd5",
   "metadata": {},
   "outputs": [],
   "source": [
    "string = 'Great Learning'"
   ]
  },
  {
   "cell_type": "code",
   "execution_count": 50,
   "id": "3987aa1a",
   "metadata": {},
   "outputs": [
    {
     "data": {
      "text/plain": [
       "'t'"
      ]
     },
     "execution_count": 50,
     "metadata": {},
     "output_type": "execute_result"
    }
   ],
   "source": [
    "string[4]"
   ]
  },
  {
   "cell_type": "code",
   "execution_count": 51,
   "id": "8ff33d5b",
   "metadata": {},
   "outputs": [
    {
     "data": {
      "text/plain": [
       "'t'"
      ]
     },
     "execution_count": 51,
     "metadata": {},
     "output_type": "execute_result"
    }
   ],
   "source": [
    "string[-10]"
   ]
  },
  {
   "cell_type": "code",
   "execution_count": 52,
   "id": "5853a448",
   "metadata": {},
   "outputs": [
    {
     "data": {
      "text/plain": [
       "'e'"
      ]
     },
     "execution_count": 52,
     "metadata": {},
     "output_type": "execute_result"
    }
   ],
   "source": [
    "string[7]"
   ]
  },
  {
   "cell_type": "code",
   "execution_count": 53,
   "id": "c8b31ed3",
   "metadata": {},
   "outputs": [
    {
     "data": {
      "text/plain": [
       "'e'"
      ]
     },
     "execution_count": 53,
     "metadata": {},
     "output_type": "execute_result"
    }
   ],
   "source": [
    "string[-7]"
   ]
  },
  {
   "cell_type": "code",
   "execution_count": 54,
   "id": "12855423",
   "metadata": {},
   "outputs": [],
   "source": [
    "string = 'Hello my dear'\n",
    "# get the first character of the string\n",
    "# get the first space in the string\n",
    "# get the third last character in string\n",
    "# get the 4th character in the string"
   ]
  },
  {
   "cell_type": "code",
   "execution_count": 55,
   "id": "2f036090",
   "metadata": {},
   "outputs": [
    {
     "data": {
      "text/plain": [
       "'H'"
      ]
     },
     "execution_count": 55,
     "metadata": {},
     "output_type": "execute_result"
    }
   ],
   "source": [
    "string[0]"
   ]
  },
  {
   "cell_type": "code",
   "execution_count": 57,
   "id": "e085c4b8",
   "metadata": {},
   "outputs": [
    {
     "data": {
      "text/plain": [
       "' '"
      ]
     },
     "execution_count": 57,
     "metadata": {},
     "output_type": "execute_result"
    }
   ],
   "source": [
    "string[5]"
   ]
  },
  {
   "cell_type": "code",
   "execution_count": 58,
   "id": "1115a1bc",
   "metadata": {},
   "outputs": [
    {
     "data": {
      "text/plain": [
       "'e'"
      ]
     },
     "execution_count": 58,
     "metadata": {},
     "output_type": "execute_result"
    }
   ],
   "source": [
    "string[-3]"
   ]
  },
  {
   "cell_type": "code",
   "execution_count": 59,
   "id": "bc129977",
   "metadata": {},
   "outputs": [
    {
     "data": {
      "text/plain": [
       "'l'"
      ]
     },
     "execution_count": 59,
     "metadata": {},
     "output_type": "execute_result"
    }
   ],
   "source": [
    "string[3]"
   ]
  },
  {
   "attachments": {
    "image.png": {
     "image/png": "[encoded data removed]"
    }
   },
   "cell_type": "markdown",
   "id": "867ed2f0",
   "metadata": {},
   "source": [
    "![image.png](attachment:image.png)"
   ]
  },
  {
   "cell_type": "code",
   "execution_count": 48,
   "id": "462a7416",
   "metadata": {},
   "outputs": [],
   "source": [
    "string = 'string slicing'\n",
    "# Write the output of the following\n",
    "# string[3:6]\n",
    "# string[4:10]\n",
    "# string[:]\n",
    "# string[7:]\n",
    "# string[-7:]\n",
    "# string[-9:-3]\n",
    "# string[2:10:2]\n",
    "# string[-1:-1:-1]\n",
    "# string[-11:-4]\n",
    "# string[-14::-3]\n",
    "# string[::-3]"
   ]
  },
  {
   "cell_type": "code",
   "execution_count": 65,
   "id": "7c0379c4",
   "metadata": {},
   "outputs": [],
   "source": [
    "string1= 'string slicing'"
   ]
  },
  {
   "cell_type": "code",
   "execution_count": 81,
   "id": "5069567f",
   "metadata": {},
   "outputs": [
    {
     "name": "stdout",
     "output_type": "stream",
     "text": [
      "ing\n",
      "ng sli\n",
      "string slicing\n",
      "slicing\n",
      "slicing\n",
      "g slic\n",
      "rn l\n",
      "ncl \n",
      "\n",
      "ing sli\n",
      "s\n",
      "gnetr\n",
      "gnicils gnirts\n"
     ]
    }
   ],
   "source": [
    "print(string1[3:6])\n",
    "print(string1[4:10])\n",
    "print(string1[:])\n",
    "print(string1[7:])\n",
    "print(string1[-7:])\n",
    "print(string1[-9:-3])\n",
    "print(string1[2:10:2])\n",
    "print(string1[-2:-10:-2])\n",
    "print(string1[-1:-1:-1])\n",
    "print(string1[-11:-4])\n",
    "print(string1[-14::-3])\n",
    "print(string[::-3])\n",
    "print(string1[::-1])"
   ]
  },
  {
   "cell_type": "code",
   "execution_count": 60,
   "id": "9a257c7d",
   "metadata": {},
   "outputs": [],
   "source": [
    "string = 'Great Learning'"
   ]
  },
  {
   "cell_type": "code",
   "execution_count": 61,
   "id": "d680a0c1",
   "metadata": {},
   "outputs": [
    {
     "data": {
      "text/plain": [
       "'Great'"
      ]
     },
     "execution_count": 61,
     "metadata": {},
     "output_type": "execute_result"
    }
   ],
   "source": [
    "string[0:5]"
   ]
  },
  {
   "cell_type": "code",
   "execution_count": 62,
   "id": "2c466d09",
   "metadata": {},
   "outputs": [
    {
     "data": {
      "text/plain": [
       "'at L'"
      ]
     },
     "execution_count": 62,
     "metadata": {},
     "output_type": "execute_result"
    }
   ],
   "source": [
    "string[3:7]"
   ]
  },
  {
   "cell_type": "code",
   "execution_count": 63,
   "id": "fb812b0c",
   "metadata": {},
   "outputs": [
    {
     "data": {
      "text/plain": [
       "'ing'"
      ]
     },
     "execution_count": 63,
     "metadata": {},
     "output_type": "execute_result"
    }
   ],
   "source": [
    "string[-3:]"
   ]
  },
  {
   "cell_type": "code",
   "execution_count": 64,
   "id": "076e2251",
   "metadata": {},
   "outputs": [
    {
     "data": {
      "text/plain": [
       "'Grea'"
      ]
     },
     "execution_count": 64,
     "metadata": {},
     "output_type": "execute_result"
    }
   ],
   "source": [
    "string[:4]"
   ]
  },
  {
   "cell_type": "code",
   "execution_count": 66,
   "id": "0a29c686",
   "metadata": {},
   "outputs": [
    {
     "data": {
      "text/plain": [
       "'Great '"
      ]
     },
     "execution_count": 66,
     "metadata": {},
     "output_type": "execute_result"
    }
   ],
   "source": [
    "string[:6]"
   ]
  },
  {
   "cell_type": "code",
   "execution_count": 67,
   "id": "d9c087f3",
   "metadata": {},
   "outputs": [
    {
     "data": {
      "text/plain": [
       "'arning'"
      ]
     },
     "execution_count": 67,
     "metadata": {},
     "output_type": "execute_result"
    }
   ],
   "source": [
    "string[-6:]"
   ]
  },
  {
   "cell_type": "code",
   "execution_count": 1,
   "id": "32276b6f",
   "metadata": {},
   "outputs": [],
   "source": [
    "string = 'marry had a little lamb'"
   ]
  },
  {
   "cell_type": "code",
   "execution_count": 2,
   "id": "28e3edda",
   "metadata": {},
   "outputs": [
    {
     "name": "stdout",
     "output_type": "stream",
     "text": [
      "little lamb\n"
     ]
    }
   ],
   "source": [
    "print(string[-11:])"
   ]
  },
  {
   "cell_type": "code",
   "execution_count": 4,
   "id": "53d3e731",
   "metadata": {},
   "outputs": [
    {
     "name": "stdout",
     "output_type": "stream",
     "text": [
      "ryhdaltl ab\n"
     ]
    }
   ],
   "source": [
    "# all the characters at even indexes\n",
    "\n",
    "print(string[2::2])"
   ]
  },
  {
   "cell_type": "code",
   "execution_count": 5,
   "id": "651cc95e",
   "metadata": {},
   "outputs": [
    {
     "name": "stdout",
     "output_type": "stream",
     "text": [
      "ar a  itelm\n"
     ]
    }
   ],
   "source": [
    "# all the characters at odd indexes\n",
    "\n",
    "print(string[1::2])"
   ]
  },
  {
   "cell_type": "code",
   "execution_count": 6,
   "id": "c4b04bcc",
   "metadata": {},
   "outputs": [
    {
     "name": "stdout",
     "output_type": "stream",
     "text": [
      "ba ltladhyrm\n"
     ]
    }
   ],
   "source": [
    "# even indexes from right to left\n",
    "\n",
    "print(string[::-2])"
   ]
  },
  {
   "cell_type": "code",
   "execution_count": 7,
   "id": "1a1d88af",
   "metadata": {},
   "outputs": [
    {
     "name": "stdout",
     "output_type": "stream",
     "text": [
      "mleti  a ra\n"
     ]
    }
   ],
   "source": [
    "# odd indexes from right to left\n",
    "\n",
    "print(string[21::-2])"
   ]
  },
  {
   "cell_type": "markdown",
   "id": "2b8c3bfc",
   "metadata": {},
   "source": [
    "### List"
   ]
  },
  {
   "cell_type": "markdown",
   "id": "5327ac5a",
   "metadata": {},
   "source": [
    "* A list is a container object\n",
    "* Heterogeneous sequence of elements\n",
    "* Can have duplicates\n",
    "* Mutable\n",
    "* Elements are separated by comma, enclosed in [ ] parenthesis"
   ]
  },
  {
   "cell_type": "code",
   "execution_count": 8,
   "id": "62282bbf",
   "metadata": {},
   "outputs": [],
   "source": [
    "marks = [78,67,89,77,85]"
   ]
  },
  {
   "cell_type": "code",
   "execution_count": 9,
   "id": "e7667707",
   "metadata": {},
   "outputs": [
    {
     "name": "stdout",
     "output_type": "stream",
     "text": [
      "[78, 67, 89, 77, 85]\n"
     ]
    }
   ],
   "source": [
    "print(marks)"
   ]
  },
  {
   "cell_type": "code",
   "execution_count": 10,
   "id": "24108967",
   "metadata": {},
   "outputs": [
    {
     "data": {
      "text/plain": [
       "list"
      ]
     },
     "execution_count": 10,
     "metadata": {},
     "output_type": "execute_result"
    }
   ],
   "source": [
    "type(marks)"
   ]
  },
  {
   "cell_type": "code",
   "execution_count": 11,
   "id": "06c4453c",
   "metadata": {},
   "outputs": [],
   "source": [
    "# Heterogeneous sequence of elements\n",
    "\n",
    "li = [67,34,89,'hi','hello',78.23,7+6j,True,False]"
   ]
  },
  {
   "cell_type": "code",
   "execution_count": 12,
   "id": "48536c55",
   "metadata": {},
   "outputs": [
    {
     "data": {
      "text/plain": [
       "list"
      ]
     },
     "execution_count": 12,
     "metadata": {},
     "output_type": "execute_result"
    }
   ],
   "source": [
    "type(li)"
   ]
  },
  {
   "cell_type": "code",
   "execution_count": 53,
   "id": "088d8a02",
   "metadata": {},
   "outputs": [],
   "source": [
    "# min, max and len of list"
   ]
  },
  {
   "cell_type": "code",
   "execution_count": 13,
   "id": "6a6fa0f1",
   "metadata": {},
   "outputs": [
    {
     "data": {
      "text/plain": [
       "67"
      ]
     },
     "execution_count": 13,
     "metadata": {},
     "output_type": "execute_result"
    }
   ],
   "source": [
    "min(marks)"
   ]
  },
  {
   "cell_type": "code",
   "execution_count": 15,
   "id": "44b11964",
   "metadata": {},
   "outputs": [
    {
     "data": {
      "text/plain": [
       "89"
      ]
     },
     "execution_count": 15,
     "metadata": {},
     "output_type": "execute_result"
    }
   ],
   "source": [
    "max(marks)"
   ]
  },
  {
   "cell_type": "code",
   "execution_count": 16,
   "id": "c773910e",
   "metadata": {},
   "outputs": [
    {
     "data": {
      "text/plain": [
       "5"
      ]
     },
     "execution_count": 16,
     "metadata": {},
     "output_type": "execute_result"
    }
   ],
   "source": [
    "len(marks)"
   ]
  },
  {
   "cell_type": "code",
   "execution_count": 17,
   "id": "887e8762",
   "metadata": {},
   "outputs": [
    {
     "ename": "TypeError",
     "evalue": "'<' not supported between instances of 'str' and 'int'",
     "output_type": "error",
     "traceback": [
      "\u001b[1;31m---------------------------------------------------------------------------\u001b[0m",
      "\u001b[1;31mTypeError\u001b[0m                                 Traceback (most recent call last)",
      "Input \u001b[1;32mIn [17]\u001b[0m, in \u001b[0;36m<cell line: 1>\u001b[1;34m()\u001b[0m\n\u001b[1;32m----> 1\u001b[0m \u001b[38;5;28;43mmin\u001b[39;49m\u001b[43m(\u001b[49m\u001b[43mli\u001b[49m\u001b[43m)\u001b[49m\n",
      "\u001b[1;31mTypeError\u001b[0m: '<' not supported between instances of 'str' and 'int'"
     ]
    }
   ],
   "source": [
    "min(li)"
   ]
  },
  {
   "cell_type": "code",
   "execution_count": 18,
   "id": "4a1ade42",
   "metadata": {},
   "outputs": [
    {
     "data": {
      "text/plain": [
       "9"
      ]
     },
     "execution_count": 18,
     "metadata": {},
     "output_type": "execute_result"
    }
   ],
   "source": [
    "len(li)"
   ]
  },
  {
   "cell_type": "code",
   "execution_count": 49,
   "id": "e6ffbd8e",
   "metadata": {},
   "outputs": [],
   "source": [
    "# .append(), .insert(), .extend()"
   ]
  },
  {
   "cell_type": "code",
   "execution_count": 19,
   "id": "0687cdae",
   "metadata": {},
   "outputs": [],
   "source": [
    "li.append(23)"
   ]
  },
  {
   "cell_type": "code",
   "execution_count": 25,
   "id": "afa89913",
   "metadata": {},
   "outputs": [
    {
     "data": {
      "text/plain": [
       "[67, 34, 89, 'hi', 'hello', 'Ajay', 78.23, (7+6j), True, False, 23]"
      ]
     },
     "execution_count": 25,
     "metadata": {},
     "output_type": "execute_result"
    }
   ],
   "source": [
    "li              # Actual list is modified thats why lists are mutable"
   ]
  },
  {
   "cell_type": "code",
   "execution_count": 21,
   "id": "edfc417d",
   "metadata": {},
   "outputs": [],
   "source": [
    "marks.append(75)"
   ]
  },
  {
   "cell_type": "code",
   "execution_count": 22,
   "id": "de2c61f0",
   "metadata": {},
   "outputs": [
    {
     "data": {
      "text/plain": [
       "[78, 67, 89, 77, 85, 75]"
      ]
     },
     "execution_count": 22,
     "metadata": {},
     "output_type": "execute_result"
    }
   ],
   "source": [
    "marks"
   ]
  },
  {
   "cell_type": "code",
   "execution_count": 23,
   "id": "1e4dc754",
   "metadata": {},
   "outputs": [],
   "source": [
    "li.insert(5, 'Ajay')"
   ]
  },
  {
   "cell_type": "code",
   "execution_count": 24,
   "id": "29452c14",
   "metadata": {},
   "outputs": [
    {
     "data": {
      "text/plain": [
       "[67, 34, 89, 'hi', 'hello', 'Ajay', 78.23, (7+6j), True, False, 23]"
      ]
     },
     "execution_count": 24,
     "metadata": {},
     "output_type": "execute_result"
    }
   ],
   "source": [
    "li"
   ]
  },
  {
   "cell_type": "code",
   "execution_count": 26,
   "id": "5122ba65",
   "metadata": {},
   "outputs": [],
   "source": [
    "li.extend(marks)"
   ]
  },
  {
   "cell_type": "code",
   "execution_count": 27,
   "id": "04989111",
   "metadata": {},
   "outputs": [
    {
     "data": {
      "text/plain": [
       "[67,\n",
       " 34,\n",
       " 89,\n",
       " 'hi',\n",
       " 'hello',\n",
       " 'Ajay',\n",
       " 78.23,\n",
       " (7+6j),\n",
       " True,\n",
       " False,\n",
       " 23,\n",
       " 78,\n",
       " 67,\n",
       " 89,\n",
       " 77,\n",
       " 85,\n",
       " 75]"
      ]
     },
     "execution_count": 27,
     "metadata": {},
     "output_type": "execute_result"
    }
   ],
   "source": [
    "li"
   ]
  },
  {
   "cell_type": "code",
   "execution_count": 28,
   "id": "e7b2dd09",
   "metadata": {},
   "outputs": [
    {
     "data": {
      "text/plain": [
       "[78, 67, 89, 77, 85, 75]"
      ]
     },
     "execution_count": 28,
     "metadata": {},
     "output_type": "execute_result"
    }
   ],
   "source": [
    "marks"
   ]
  },
  {
   "cell_type": "code",
   "execution_count": 29,
   "id": "95bfe7f4",
   "metadata": {},
   "outputs": [],
   "source": [
    "marks.extend(li)"
   ]
  },
  {
   "cell_type": "code",
   "execution_count": 31,
   "id": "e6249d69",
   "metadata": {},
   "outputs": [
    {
     "name": "stdout",
     "output_type": "stream",
     "text": [
      "[78, 67, 89, 77, 85, 75, 67, 34, 89, 'hi', 'hello', 'Ajay', 78.23, (7+6j), True, False, 23, 78, 67, 89, 77, 85, 75]\n"
     ]
    }
   ],
   "source": [
    "print(marks)"
   ]
  },
  {
   "cell_type": "code",
   "execution_count": 32,
   "id": "7f96a5e2",
   "metadata": {},
   "outputs": [],
   "source": [
    "marks.extend([58,64,89,57])"
   ]
  },
  {
   "cell_type": "code",
   "execution_count": 33,
   "id": "ead4ce05",
   "metadata": {},
   "outputs": [
    {
     "name": "stdout",
     "output_type": "stream",
     "text": [
      "[78, 67, 89, 77, 85, 75, 67, 34, 89, 'hi', 'hello', 'Ajay', 78.23, (7+6j), True, False, 23, 78, 67, 89, 77, 85, 75, 58, 64, 89, 57]\n"
     ]
    }
   ],
   "source": [
    "print(marks)"
   ]
  },
  {
   "cell_type": "code",
   "execution_count": 50,
   "id": "f05eae0f",
   "metadata": {},
   "outputs": [],
   "source": [
    "# .sort(), sorted()"
   ]
  },
  {
   "cell_type": "raw",
   "id": "debef5cb",
   "metadata": {},
   "source": [
    "sorted() takes an iterable as its argument, while sort() takes a list as its argument. This means that you can use sorted() to sort any iterable object, such as a tuple, a string, or a dictionary. However, you can only use sort() to sort a list"
   ]
  },
  {
   "cell_type": "code",
   "execution_count": 34,
   "id": "8784ea24",
   "metadata": {},
   "outputs": [
    {
     "ename": "TypeError",
     "evalue": "'<' not supported between instances of 'str' and 'int'",
     "output_type": "error",
     "traceback": [
      "\u001b[1;31m---------------------------------------------------------------------------\u001b[0m",
      "\u001b[1;31mTypeError\u001b[0m                                 Traceback (most recent call last)",
      "Input \u001b[1;32mIn [34]\u001b[0m, in \u001b[0;36m<cell line: 1>\u001b[1;34m()\u001b[0m\n\u001b[1;32m----> 1\u001b[0m \u001b[38;5;28;43msorted\u001b[39;49m\u001b[43m(\u001b[49m\u001b[43mli\u001b[49m\u001b[43m)\u001b[49m\n",
      "\u001b[1;31mTypeError\u001b[0m: '<' not supported between instances of 'str' and 'int'"
     ]
    }
   ],
   "source": [
    "sorted(li)"
   ]
  },
  {
   "cell_type": "code",
   "execution_count": 35,
   "id": "28075a93",
   "metadata": {},
   "outputs": [
    {
     "ename": "TypeError",
     "evalue": "'<' not supported between instances of 'str' and 'int'",
     "output_type": "error",
     "traceback": [
      "\u001b[1;31m---------------------------------------------------------------------------\u001b[0m",
      "\u001b[1;31mTypeError\u001b[0m                                 Traceback (most recent call last)",
      "Input \u001b[1;32mIn [35]\u001b[0m, in \u001b[0;36m<cell line: 1>\u001b[1;34m()\u001b[0m\n\u001b[1;32m----> 1\u001b[0m \u001b[38;5;28;43msorted\u001b[39;49m\u001b[43m(\u001b[49m\u001b[43mmarks\u001b[49m\u001b[43m)\u001b[49m\n",
      "\u001b[1;31mTypeError\u001b[0m: '<' not supported between instances of 'str' and 'int'"
     ]
    }
   ],
   "source": [
    "sorted(marks)"
   ]
  },
  {
   "cell_type": "code",
   "execution_count": 36,
   "id": "3d3b2713",
   "metadata": {},
   "outputs": [],
   "source": [
    "marks1 = [89,56,46,23,79,56,89,28]"
   ]
  },
  {
   "cell_type": "code",
   "execution_count": 37,
   "id": "5403a0db",
   "metadata": {},
   "outputs": [
    {
     "data": {
      "text/plain": [
       "[23, 28, 46, 56, 56, 79, 89, 89]"
      ]
     },
     "execution_count": 37,
     "metadata": {},
     "output_type": "execute_result"
    }
   ],
   "source": [
    "sorted(marks1)                #it only displays the sorted values, it doesn't affect the original list."
   ]
  },
  {
   "cell_type": "code",
   "execution_count": 38,
   "id": "51a373cd",
   "metadata": {},
   "outputs": [
    {
     "data": {
      "text/plain": [
       "[89, 56, 46, 23, 79, 56, 89, 28]"
      ]
     },
     "execution_count": 38,
     "metadata": {},
     "output_type": "execute_result"
    }
   ],
   "source": [
    "marks1"
   ]
  },
  {
   "cell_type": "code",
   "execution_count": 39,
   "id": "e7a860e1",
   "metadata": {},
   "outputs": [
    {
     "data": {
      "text/plain": [
       "[89, 89, 79, 56, 56, 46, 28, 23]"
      ]
     },
     "execution_count": 39,
     "metadata": {},
     "output_type": "execute_result"
    }
   ],
   "source": [
    "sorted(marks1,reverse=True)"
   ]
  },
  {
   "cell_type": "code",
   "execution_count": 40,
   "id": "d1fe7994",
   "metadata": {},
   "outputs": [
    {
     "data": {
      "text/plain": [
       "[89, 56, 46, 23, 79, 56, 89, 28]"
      ]
     },
     "execution_count": 40,
     "metadata": {},
     "output_type": "execute_result"
    }
   ],
   "source": [
    "marks1"
   ]
  },
  {
   "cell_type": "code",
   "execution_count": 42,
   "id": "03a9cfc3",
   "metadata": {},
   "outputs": [],
   "source": [
    "marks1.sort()"
   ]
  },
  {
   "cell_type": "code",
   "execution_count": 43,
   "id": "f979c490",
   "metadata": {},
   "outputs": [
    {
     "data": {
      "text/plain": [
       "[23, 28, 46, 56, 56, 79, 89, 89]"
      ]
     },
     "execution_count": 43,
     "metadata": {},
     "output_type": "execute_result"
    }
   ],
   "source": [
    "marks1"
   ]
  },
  {
   "cell_type": "code",
   "execution_count": 44,
   "id": "d83d96c0",
   "metadata": {},
   "outputs": [],
   "source": [
    "marks1.sort(reverse=True)"
   ]
  },
  {
   "cell_type": "code",
   "execution_count": 45,
   "id": "ea6d8831",
   "metadata": {},
   "outputs": [
    {
     "data": {
      "text/plain": [
       "[89, 89, 79, 56, 56, 46, 28, 23]"
      ]
     },
     "execution_count": 45,
     "metadata": {},
     "output_type": "execute_result"
    }
   ],
   "source": [
    "marks1"
   ]
  },
  {
   "cell_type": "code",
   "execution_count": 51,
   "id": "d4809939",
   "metadata": {},
   "outputs": [],
   "source": [
    "# .pop(), .remove()"
   ]
  },
  {
   "cell_type": "code",
   "execution_count": 46,
   "id": "c2c09566",
   "metadata": {},
   "outputs": [
    {
     "data": {
      "text/plain": [
       "[89, 89, 79, 56, 56, 46, 28, 23]"
      ]
     },
     "execution_count": 46,
     "metadata": {},
     "output_type": "execute_result"
    }
   ],
   "source": [
    "marks1"
   ]
  },
  {
   "cell_type": "code",
   "execution_count": 48,
   "id": "8a4204ea",
   "metadata": {},
   "outputs": [],
   "source": [
    "marks1.remove(79)"
   ]
  },
  {
   "cell_type": "code",
   "execution_count": 49,
   "id": "ef0641f5",
   "metadata": {},
   "outputs": [
    {
     "data": {
      "text/plain": [
       "[89, 89, 56, 56, 46, 28, 23]"
      ]
     },
     "execution_count": 49,
     "metadata": {},
     "output_type": "execute_result"
    }
   ],
   "source": [
    "marks1"
   ]
  },
  {
   "cell_type": "code",
   "execution_count": 50,
   "id": "880dd779",
   "metadata": {},
   "outputs": [],
   "source": [
    "marks1.remove(89)"
   ]
  },
  {
   "cell_type": "code",
   "execution_count": 51,
   "id": "378f2d35",
   "metadata": {},
   "outputs": [
    {
     "data": {
      "text/plain": [
       "[89, 56, 56, 46, 28, 23]"
      ]
     },
     "execution_count": 51,
     "metadata": {},
     "output_type": "execute_result"
    }
   ],
   "source": [
    "marks1"
   ]
  },
  {
   "cell_type": "code",
   "execution_count": 52,
   "id": "63670f5e",
   "metadata": {},
   "outputs": [
    {
     "data": {
      "text/plain": [
       "23"
      ]
     },
     "execution_count": 52,
     "metadata": {},
     "output_type": "execute_result"
    }
   ],
   "source": [
    "marks1.pop()"
   ]
  },
  {
   "cell_type": "code",
   "execution_count": 53,
   "id": "320922c3",
   "metadata": {},
   "outputs": [
    {
     "data": {
      "text/plain": [
       "56"
      ]
     },
     "execution_count": 53,
     "metadata": {},
     "output_type": "execute_result"
    }
   ],
   "source": [
    "marks1.pop(1)"
   ]
  },
  {
   "cell_type": "code",
   "execution_count": 54,
   "id": "928469f6",
   "metadata": {},
   "outputs": [
    {
     "data": {
      "text/plain": [
       "[89, 56, 46, 28]"
      ]
     },
     "execution_count": 54,
     "metadata": {},
     "output_type": "execute_result"
    }
   ],
   "source": [
    "marks1"
   ]
  },
  {
   "cell_type": "code",
   "execution_count": 56,
   "id": "47b3496c",
   "metadata": {},
   "outputs": [
    {
     "data": {
      "text/plain": [
       "['hello', 'my', 'dear', 'friend']"
      ]
     },
     "execution_count": 56,
     "metadata": {},
     "output_type": "execute_result"
    }
   ],
   "source": [
    "li = ['hello','my','dear','friend']\n",
    "li"
   ]
  },
  {
   "cell_type": "code",
   "execution_count": 57,
   "id": "2c0b2a33",
   "metadata": {},
   "outputs": [],
   "source": [
    "ans = li.remove('dear')"
   ]
  },
  {
   "cell_type": "code",
   "execution_count": 59,
   "id": "26a4c213",
   "metadata": {},
   "outputs": [],
   "source": [
    "ans         # you can't store the removed value to any variable"
   ]
  },
  {
   "cell_type": "code",
   "execution_count": 60,
   "id": "f1c6700d",
   "metadata": {},
   "outputs": [
    {
     "data": {
      "text/plain": [
       "['hello', 'my', 'friend']"
      ]
     },
     "execution_count": 60,
     "metadata": {},
     "output_type": "execute_result"
    }
   ],
   "source": [
    "li"
   ]
  },
  {
   "cell_type": "code",
   "execution_count": 61,
   "id": "ad480783",
   "metadata": {},
   "outputs": [],
   "source": [
    "ans = li.pop(1)"
   ]
  },
  {
   "cell_type": "code",
   "execution_count": 62,
   "id": "ad332f27",
   "metadata": {},
   "outputs": [
    {
     "data": {
      "text/plain": [
       "'my'"
      ]
     },
     "execution_count": 62,
     "metadata": {},
     "output_type": "execute_result"
    }
   ],
   "source": [
    "ans"
   ]
  },
  {
   "cell_type": "code",
   "execution_count": 52,
   "id": "47ad1730",
   "metadata": {},
   "outputs": [],
   "source": [
    "# .reverse()"
   ]
  },
  {
   "cell_type": "code",
   "execution_count": 63,
   "id": "96ec229c",
   "metadata": {},
   "outputs": [
    {
     "data": {
      "text/plain": [
       "[89, 56, 46, 28]"
      ]
     },
     "execution_count": 63,
     "metadata": {},
     "output_type": "execute_result"
    }
   ],
   "source": [
    "marks1"
   ]
  },
  {
   "cell_type": "code",
   "execution_count": 66,
   "id": "91efee1a",
   "metadata": {},
   "outputs": [],
   "source": [
    "marks1.reverse()"
   ]
  },
  {
   "cell_type": "code",
   "execution_count": 67,
   "id": "51c1a1af",
   "metadata": {},
   "outputs": [
    {
     "data": {
      "text/plain": [
       "[28, 46, 56, 89]"
      ]
     },
     "execution_count": 67,
     "metadata": {},
     "output_type": "execute_result"
    }
   ],
   "source": [
    "marks1"
   ]
  },
  {
   "cell_type": "code",
   "execution_count": 54,
   "id": "f6c38035",
   "metadata": {},
   "outputs": [],
   "source": [
    "# .clear()"
   ]
  },
  {
   "cell_type": "code",
   "execution_count": 68,
   "id": "fea49dc0",
   "metadata": {},
   "outputs": [],
   "source": [
    "marks.clear()"
   ]
  },
  {
   "cell_type": "code",
   "execution_count": 69,
   "id": "0f8ad3ff",
   "metadata": {},
   "outputs": [
    {
     "data": {
      "text/plain": [
       "[]"
      ]
     },
     "execution_count": 69,
     "metadata": {},
     "output_type": "execute_result"
    }
   ],
   "source": [
    "marks"
   ]
  },
  {
   "cell_type": "code",
   "execution_count": 55,
   "id": "dbad9b1c",
   "metadata": {},
   "outputs": [],
   "source": [
    "# .copy()"
   ]
  },
  {
   "cell_type": "code",
   "execution_count": 70,
   "id": "914d0f2c",
   "metadata": {},
   "outputs": [
    {
     "data": {
      "text/plain": [
       "[23, 47, 36, 89]"
      ]
     },
     "execution_count": 70,
     "metadata": {},
     "output_type": "execute_result"
    }
   ],
   "source": [
    "li = [23,47,36,89]\n",
    "li"
   ]
  },
  {
   "cell_type": "code",
   "execution_count": 71,
   "id": "b57d58e9",
   "metadata": {},
   "outputs": [],
   "source": [
    "li_c = li"
   ]
  },
  {
   "cell_type": "code",
   "execution_count": 72,
   "id": "22523307",
   "metadata": {},
   "outputs": [
    {
     "data": {
      "text/plain": [
       "[23, 47, 36, 89]"
      ]
     },
     "execution_count": 72,
     "metadata": {},
     "output_type": "execute_result"
    }
   ],
   "source": [
    "li_c"
   ]
  },
  {
   "cell_type": "code",
   "execution_count": 73,
   "id": "759742f4",
   "metadata": {},
   "outputs": [
    {
     "data": {
      "text/plain": [
       "[23, 54, 36, 89]"
      ]
     },
     "execution_count": 73,
     "metadata": {},
     "output_type": "execute_result"
    }
   ],
   "source": [
    "li_c[1] = 54\n",
    "li_c"
   ]
  },
  {
   "cell_type": "code",
   "execution_count": 74,
   "id": "e6fb724e",
   "metadata": {},
   "outputs": [
    {
     "data": {
      "text/plain": [
       "[23, 54, 36, 89]"
      ]
     },
     "execution_count": 74,
     "metadata": {},
     "output_type": "execute_result"
    }
   ],
   "source": [
    "li"
   ]
  },
  {
   "cell_type": "code",
   "execution_count": 75,
   "id": "626b310d",
   "metadata": {},
   "outputs": [
    {
     "data": {
      "text/plain": [
       "[23, 54, 36, 89]"
      ]
     },
     "execution_count": 75,
     "metadata": {},
     "output_type": "execute_result"
    }
   ],
   "source": [
    "a = li.copy()\n",
    "a"
   ]
  },
  {
   "cell_type": "code",
   "execution_count": 76,
   "id": "02b1b517",
   "metadata": {},
   "outputs": [
    {
     "data": {
      "text/plain": [
       "[23, 54, 36, 89]"
      ]
     },
     "execution_count": 76,
     "metadata": {},
     "output_type": "execute_result"
    }
   ],
   "source": [
    "li"
   ]
  },
  {
   "cell_type": "code",
   "execution_count": 77,
   "id": "cc56f563",
   "metadata": {},
   "outputs": [
    {
     "data": {
      "text/plain": [
       "[23, 54, 63, 89]"
      ]
     },
     "execution_count": 77,
     "metadata": {},
     "output_type": "execute_result"
    }
   ],
   "source": [
    "li[2] = 63\n",
    "li"
   ]
  },
  {
   "cell_type": "code",
   "execution_count": 78,
   "id": "ba3a02b3",
   "metadata": {},
   "outputs": [
    {
     "data": {
      "text/plain": [
       "[23, 54, 36, 89]"
      ]
     },
     "execution_count": 78,
     "metadata": {},
     "output_type": "execute_result"
    }
   ],
   "source": [
    "a"
   ]
  },
  {
   "cell_type": "markdown",
   "id": "f38bec69",
   "metadata": {},
   "source": [
    "#### Indexing and slicing in list"
   ]
  },
  {
   "cell_type": "code",
   "execution_count": 79,
   "id": "74dcc1f2",
   "metadata": {},
   "outputs": [
    {
     "data": {
      "text/plain": [
       "[23, 54, 63, 89]"
      ]
     },
     "execution_count": 79,
     "metadata": {},
     "output_type": "execute_result"
    }
   ],
   "source": [
    "li"
   ]
  },
  {
   "cell_type": "code",
   "execution_count": 80,
   "id": "89c6edcf",
   "metadata": {},
   "outputs": [
    {
     "data": {
      "text/plain": [
       "[63, 89]"
      ]
     },
     "execution_count": 80,
     "metadata": {},
     "output_type": "execute_result"
    }
   ],
   "source": [
    "li[2:]"
   ]
  },
  {
   "cell_type": "code",
   "execution_count": 81,
   "id": "37d094ee",
   "metadata": {},
   "outputs": [
    {
     "data": {
      "text/plain": [
       "[63, 89]"
      ]
     },
     "execution_count": 81,
     "metadata": {},
     "output_type": "execute_result"
    }
   ],
   "source": [
    "li[-2:]"
   ]
  },
  {
   "cell_type": "code",
   "execution_count": 82,
   "id": "d927b97a",
   "metadata": {},
   "outputs": [
    {
     "data": {
      "text/plain": [
       "[23, 54]"
      ]
     },
     "execution_count": 82,
     "metadata": {},
     "output_type": "execute_result"
    }
   ],
   "source": [
    "li[:2]"
   ]
  },
  {
   "cell_type": "code",
   "execution_count": 83,
   "id": "49484bf4",
   "metadata": {},
   "outputs": [],
   "source": [
    "marks = [23,54,89,65,78,32,98,54,63,85,25]"
   ]
  },
  {
   "cell_type": "code",
   "execution_count": 84,
   "id": "b3ae2eaf",
   "metadata": {},
   "outputs": [
    {
     "data": {
      "text/plain": [
       "[23, 89, 78, 98, 63, 25]"
      ]
     },
     "execution_count": 84,
     "metadata": {},
     "output_type": "execute_result"
    }
   ],
   "source": [
    "marks[::2]"
   ]
  },
  {
   "cell_type": "code",
   "execution_count": 85,
   "id": "bd56018c",
   "metadata": {},
   "outputs": [
    {
     "data": {
      "text/plain": [
       "[54, 65, 32, 54, 85]"
      ]
     },
     "execution_count": 85,
     "metadata": {},
     "output_type": "execute_result"
    }
   ],
   "source": [
    "marks[1::2]"
   ]
  },
  {
   "cell_type": "markdown",
   "id": "7f64fdfd",
   "metadata": {},
   "source": [
    "#### Nested list, Indexing and slicing in nested list"
   ]
  },
  {
   "cell_type": "code",
   "execution_count": 89,
   "id": "bb46968e",
   "metadata": {},
   "outputs": [
    {
     "data": {
      "text/plain": [
       "[23, 56, 89, 78.6, [1, 2, 3, 5], 90, 87, 56]"
      ]
     },
     "execution_count": 89,
     "metadata": {},
     "output_type": "execute_result"
    }
   ],
   "source": [
    "li = [23,56,89,78.6,[1,2,3,5],90,87,56]\n",
    "li"
   ]
  },
  {
   "cell_type": "code",
   "execution_count": 92,
   "id": "36f20aaa",
   "metadata": {},
   "outputs": [
    {
     "data": {
      "text/plain": [
       "[1, 2, 3, 5]"
      ]
     },
     "execution_count": 92,
     "metadata": {},
     "output_type": "execute_result"
    }
   ],
   "source": [
    "li[4]"
   ]
  },
  {
   "cell_type": "code",
   "execution_count": 93,
   "id": "10fa8beb",
   "metadata": {},
   "outputs": [
    {
     "data": {
      "text/plain": [
       "3"
      ]
     },
     "execution_count": 93,
     "metadata": {},
     "output_type": "execute_result"
    }
   ],
   "source": [
    "li[4][2]"
   ]
  },
  {
   "cell_type": "code",
   "execution_count": 94,
   "id": "08a8abc4",
   "metadata": {},
   "outputs": [
    {
     "data": {
      "text/plain": [
       "5"
      ]
     },
     "execution_count": 94,
     "metadata": {},
     "output_type": "execute_result"
    }
   ],
   "source": [
    "li[4][-1]"
   ]
  },
  {
   "cell_type": "code",
   "execution_count": 95,
   "id": "2d7044ba",
   "metadata": {},
   "outputs": [
    {
     "data": {
      "text/plain": [
       "[23, 56, 89, 78.6, [1, 2, 3, 5], 90, 87, 56]"
      ]
     },
     "execution_count": 95,
     "metadata": {},
     "output_type": "execute_result"
    }
   ],
   "source": [
    "li"
   ]
  },
  {
   "cell_type": "code",
   "execution_count": 96,
   "id": "1fa4fc15",
   "metadata": {},
   "outputs": [
    {
     "data": {
      "text/plain": [
       "[1, 2, 3, 5]"
      ]
     },
     "execution_count": 96,
     "metadata": {},
     "output_type": "execute_result"
    }
   ],
   "source": [
    "li[4]"
   ]
  },
  {
   "cell_type": "code",
   "execution_count": 97,
   "id": "5d7bf4a5",
   "metadata": {},
   "outputs": [
    {
     "data": {
      "text/plain": [
       "[2, 3, 5]"
      ]
     },
     "execution_count": 97,
     "metadata": {},
     "output_type": "execute_result"
    }
   ],
   "source": [
    "li[4][-3:]"
   ]
  },
  {
   "cell_type": "code",
   "execution_count": 98,
   "id": "a86e40cd",
   "metadata": {},
   "outputs": [
    {
     "data": {
      "text/plain": [
       "[23, 45, 67, [1, 2, 3, [11, 22, 33, 44, 55], 4], 89, 91]"
      ]
     },
     "execution_count": 98,
     "metadata": {},
     "output_type": "execute_result"
    }
   ],
   "source": [
    "a = [23,45,67,[1,2,3,[11,22,33,44,55],4],89,91]\n",
    "a"
   ]
  },
  {
   "cell_type": "code",
   "execution_count": 100,
   "id": "93a29770",
   "metadata": {},
   "outputs": [
    {
     "data": {
      "text/plain": [
       "[1, 2, 3, [11, 22, 33, 44, 55], 4]"
      ]
     },
     "execution_count": 100,
     "metadata": {},
     "output_type": "execute_result"
    }
   ],
   "source": [
    "a[3]"
   ]
  },
  {
   "cell_type": "code",
   "execution_count": 101,
   "id": "4d870b55",
   "metadata": {},
   "outputs": [
    {
     "data": {
      "text/plain": [
       "[11, 22, 33, 44, 55]"
      ]
     },
     "execution_count": 101,
     "metadata": {},
     "output_type": "execute_result"
    }
   ],
   "source": [
    "a[3][3]"
   ]
  },
  {
   "cell_type": "code",
   "execution_count": 102,
   "id": "d76c0b71",
   "metadata": {},
   "outputs": [
    {
     "data": {
      "text/plain": [
       "22"
      ]
     },
     "execution_count": 102,
     "metadata": {},
     "output_type": "execute_result"
    }
   ],
   "source": [
    "a[3][3][1]"
   ]
  },
  {
   "cell_type": "markdown",
   "id": "78c518fc",
   "metadata": {},
   "source": [
    "### Tuple"
   ]
  },
  {
   "cell_type": "markdown",
   "id": "c987a914",
   "metadata": {},
   "source": [
    "Another type of container object\n",
    "* Heterogeneous sequence of elements\n",
    "* Can have duplicates\n",
    "* Immutable \n",
    "* Elements are separated by comma, enclosed in ( ) parenthesis\n"
   ]
  },
  {
   "cell_type": "code",
   "execution_count": 103,
   "id": "25eeeff1",
   "metadata": {},
   "outputs": [
    {
     "data": {
      "text/plain": [
       "(78, 89, 65, 78)"
      ]
     },
     "execution_count": 103,
     "metadata": {},
     "output_type": "execute_result"
    }
   ],
   "source": [
    "t = (78,89,65,78)\n",
    "t"
   ]
  },
  {
   "cell_type": "code",
   "execution_count": 104,
   "id": "3608bc13",
   "metadata": {},
   "outputs": [
    {
     "data": {
      "text/plain": [
       "tuple"
      ]
     },
     "execution_count": 104,
     "metadata": {},
     "output_type": "execute_result"
    }
   ],
   "source": [
    "type(t)"
   ]
  },
  {
   "cell_type": "code",
   "execution_count": 105,
   "id": "376b9d77",
   "metadata": {},
   "outputs": [
    {
     "data": {
      "text/plain": [
       "(34, 89, 67.23, 'Hello', True)"
      ]
     },
     "execution_count": 105,
     "metadata": {},
     "output_type": "execute_result"
    }
   ],
   "source": [
    "tup = (34,89,67.23,'Hello',True)\n",
    "tup"
   ]
  },
  {
   "cell_type": "code",
   "execution_count": 106,
   "id": "f5a62cd9",
   "metadata": {},
   "outputs": [
    {
     "data": {
      "text/plain": [
       "tuple"
      ]
     },
     "execution_count": 106,
     "metadata": {},
     "output_type": "execute_result"
    }
   ],
   "source": [
    "type(tup)"
   ]
  },
  {
   "cell_type": "code",
   "execution_count": 56,
   "id": "76322fd9",
   "metadata": {},
   "outputs": [],
   "source": [
    "# len, min, max"
   ]
  },
  {
   "cell_type": "code",
   "execution_count": 107,
   "id": "030d655a",
   "metadata": {},
   "outputs": [
    {
     "data": {
      "text/plain": [
       "65"
      ]
     },
     "execution_count": 107,
     "metadata": {},
     "output_type": "execute_result"
    }
   ],
   "source": [
    "min(t)"
   ]
  },
  {
   "cell_type": "code",
   "execution_count": 108,
   "id": "79be5f3f",
   "metadata": {},
   "outputs": [
    {
     "data": {
      "text/plain": [
       "89"
      ]
     },
     "execution_count": 108,
     "metadata": {},
     "output_type": "execute_result"
    }
   ],
   "source": [
    "max(t)"
   ]
  },
  {
   "cell_type": "code",
   "execution_count": 109,
   "id": "0acd621f",
   "metadata": {},
   "outputs": [
    {
     "data": {
      "text/plain": [
       "4"
      ]
     },
     "execution_count": 109,
     "metadata": {},
     "output_type": "execute_result"
    }
   ],
   "source": [
    "len(t)"
   ]
  },
  {
   "cell_type": "code",
   "execution_count": 110,
   "id": "7454875b",
   "metadata": {},
   "outputs": [
    {
     "data": {
      "text/plain": [
       "5"
      ]
     },
     "execution_count": 110,
     "metadata": {},
     "output_type": "execute_result"
    }
   ],
   "source": [
    "len(tup)"
   ]
  },
  {
   "cell_type": "code",
   "execution_count": 57,
   "id": "4b8d9f0a",
   "metadata": {},
   "outputs": [],
   "source": [
    "# .count(), .index()"
   ]
  },
  {
   "cell_type": "code",
   "execution_count": 112,
   "id": "c5a6b41b",
   "metadata": {},
   "outputs": [
    {
     "data": {
      "text/plain": [
       "1"
      ]
     },
     "execution_count": 112,
     "metadata": {},
     "output_type": "execute_result"
    }
   ],
   "source": [
    "t.count(65)"
   ]
  },
  {
   "cell_type": "code",
   "execution_count": 113,
   "id": "8c13246a",
   "metadata": {},
   "outputs": [
    {
     "data": {
      "text/plain": [
       "(1, 1, 11, 2, 2, 2, 22, 3, 3, 3, 33, 4, 4, 44)"
      ]
     },
     "execution_count": 113,
     "metadata": {},
     "output_type": "execute_result"
    }
   ],
   "source": [
    "t = (1,1,11,2,2,2,22,3,3,3,33,4,4,44)\n",
    "t"
   ]
  },
  {
   "cell_type": "code",
   "execution_count": 114,
   "id": "6787fcb9",
   "metadata": {},
   "outputs": [
    {
     "data": {
      "text/plain": [
       "3"
      ]
     },
     "execution_count": 114,
     "metadata": {},
     "output_type": "execute_result"
    }
   ],
   "source": [
    "t.count(3)"
   ]
  },
  {
   "cell_type": "code",
   "execution_count": 115,
   "id": "b4c30aaf",
   "metadata": {},
   "outputs": [
    {
     "data": {
      "text/plain": [
       "7"
      ]
     },
     "execution_count": 115,
     "metadata": {},
     "output_type": "execute_result"
    }
   ],
   "source": [
    "t.index(3)"
   ]
  },
  {
   "cell_type": "code",
   "execution_count": 58,
   "id": "95662965",
   "metadata": {},
   "outputs": [],
   "source": [
    "# sorted()"
   ]
  },
  {
   "cell_type": "code",
   "execution_count": 116,
   "id": "76eba934",
   "metadata": {},
   "outputs": [
    {
     "data": {
      "text/plain": [
       "[1, 1, 2, 2, 2, 3, 3, 3, 4, 4, 11, 22, 33, 44]"
      ]
     },
     "execution_count": 116,
     "metadata": {},
     "output_type": "execute_result"
    }
   ],
   "source": [
    "sorted(t)"
   ]
  },
  {
   "cell_type": "code",
   "execution_count": 117,
   "id": "fce67537",
   "metadata": {},
   "outputs": [
    {
     "data": {
      "text/plain": [
       "(1, 1, 11, 2, 2, 2, 22, 3, 3, 3, 33, 4, 4, 44)"
      ]
     },
     "execution_count": 117,
     "metadata": {},
     "output_type": "execute_result"
    }
   ],
   "source": [
    "t"
   ]
  },
  {
   "cell_type": "code",
   "execution_count": 118,
   "id": "4a33da5a",
   "metadata": {},
   "outputs": [
    {
     "data": {
      "text/plain": [
       "[44, 33, 22, 11, 4, 4, 3, 3, 3, 2, 2, 2, 1, 1]"
      ]
     },
     "execution_count": 118,
     "metadata": {},
     "output_type": "execute_result"
    }
   ],
   "source": [
    "sorted(t,reverse=True)"
   ]
  },
  {
   "cell_type": "code",
   "execution_count": 119,
   "id": "2c236bbc",
   "metadata": {},
   "outputs": [
    {
     "data": {
      "text/plain": [
       "(1, 1, 11, 2, 2, 2, 22, 3, 3, 3, 33, 4, 4, 44)"
      ]
     },
     "execution_count": 119,
     "metadata": {},
     "output_type": "execute_result"
    }
   ],
   "source": [
    "t"
   ]
  },
  {
   "cell_type": "markdown",
   "id": "f1d8a15e",
   "metadata": {},
   "source": [
    "#### Indexing and slicing in tuple"
   ]
  },
  {
   "cell_type": "code",
   "execution_count": 120,
   "id": "b82a5ad9",
   "metadata": {},
   "outputs": [
    {
     "data": {
      "text/plain": [
       "(1, 1, 11, 2, 2, 2, 22, 3, 3, 3, 33, 4, 4, 44)"
      ]
     },
     "execution_count": 120,
     "metadata": {},
     "output_type": "execute_result"
    }
   ],
   "source": [
    "t"
   ]
  },
  {
   "cell_type": "code",
   "execution_count": 121,
   "id": "174fe52e",
   "metadata": {},
   "outputs": [
    {
     "data": {
      "text/plain": [
       "4"
      ]
     },
     "execution_count": 121,
     "metadata": {},
     "output_type": "execute_result"
    }
   ],
   "source": [
    "t[-3]"
   ]
  },
  {
   "cell_type": "code",
   "execution_count": 122,
   "id": "0a4eb8a2",
   "metadata": {},
   "outputs": [
    {
     "data": {
      "text/plain": [
       "(1, 1, 11)"
      ]
     },
     "execution_count": 122,
     "metadata": {},
     "output_type": "execute_result"
    }
   ],
   "source": [
    "t[:3]"
   ]
  },
  {
   "cell_type": "code",
   "execution_count": 123,
   "id": "847a72f6",
   "metadata": {},
   "outputs": [
    {
     "data": {
      "text/plain": [
       "(4, 4, 44)"
      ]
     },
     "execution_count": 123,
     "metadata": {},
     "output_type": "execute_result"
    }
   ],
   "source": [
    "t[-3:]"
   ]
  },
  {
   "cell_type": "code",
   "execution_count": 124,
   "id": "6d342a38",
   "metadata": {},
   "outputs": [
    {
     "data": {
      "text/plain": [
       "(1, 2, 2, 3, 3, 4, 44)"
      ]
     },
     "execution_count": 124,
     "metadata": {},
     "output_type": "execute_result"
    }
   ],
   "source": [
    "t[1::2]"
   ]
  },
  {
   "cell_type": "markdown",
   "id": "52809434",
   "metadata": {},
   "source": [
    "### Dictionary"
   ]
  },
  {
   "cell_type": "markdown",
   "id": "56da328d",
   "metadata": {},
   "source": [
    "A Python dictionary is a mapping of unique keys to values\n",
    "* Use {} curly brackets to construct the dictionary\n",
    "* [] square brackets to index it\n",
    "* Dictionaries are mutable"
   ]
  },
  {
   "cell_type": "code",
   "execution_count": 60,
   "id": "af0b5252",
   "metadata": {},
   "outputs": [],
   "source": [
    "# Creating a dictionary and accessing elements in dict"
   ]
  },
  {
   "cell_type": "code",
   "execution_count": 125,
   "id": "99a19f01",
   "metadata": {},
   "outputs": [
    {
     "data": {
      "text/plain": [
       "{'Ajay': 78, 'Mohan': 89, 'Akash': 77, 'Ridhima': 87}"
      ]
     },
     "execution_count": 125,
     "metadata": {},
     "output_type": "execute_result"
    }
   ],
   "source": [
    "d = {'Ajay':78, 'Mohan':89, 'Akash':77, 'Ridhima':87}\n",
    "d"
   ]
  },
  {
   "cell_type": "code",
   "execution_count": 126,
   "id": "5c57e2be",
   "metadata": {},
   "outputs": [
    {
     "data": {
      "text/plain": [
       "dict"
      ]
     },
     "execution_count": 126,
     "metadata": {},
     "output_type": "execute_result"
    }
   ],
   "source": [
    "type(d)"
   ]
  },
  {
   "cell_type": "code",
   "execution_count": 132,
   "id": "87ee4503",
   "metadata": {},
   "outputs": [
    {
     "ename": "KeyError",
     "evalue": "0",
     "output_type": "error",
     "traceback": [
      "\u001b[1;31m---------------------------------------------------------------------------\u001b[0m",
      "\u001b[1;31mKeyError\u001b[0m                                  Traceback (most recent call last)",
      "Input \u001b[1;32mIn [132]\u001b[0m, in \u001b[0;36m<cell line: 1>\u001b[1;34m()\u001b[0m\n\u001b[1;32m----> 1\u001b[0m \u001b[43md\u001b[49m\u001b[43m[\u001b[49m\u001b[38;5;241;43m0\u001b[39;49m\u001b[43m]\u001b[49m\n",
      "\u001b[1;31mKeyError\u001b[0m: 0"
     ]
    }
   ],
   "source": [
    "d[0]         # indexes don't work in dictionaries, in place of that we use keys "
   ]
  },
  {
   "cell_type": "code",
   "execution_count": 131,
   "id": "fd507b66",
   "metadata": {},
   "outputs": [
    {
     "data": {
      "text/plain": [
       "89"
      ]
     },
     "execution_count": 131,
     "metadata": {},
     "output_type": "execute_result"
    }
   ],
   "source": [
    "d['Mohan']"
   ]
  },
  {
   "cell_type": "code",
   "execution_count": 61,
   "id": "428cf3a6",
   "metadata": {},
   "outputs": [],
   "source": [
    "# .keys(), .values(), .items()"
   ]
  },
  {
   "cell_type": "code",
   "execution_count": 127,
   "id": "0fd8e91b",
   "metadata": {},
   "outputs": [
    {
     "data": {
      "text/plain": [
       "dict_keys(['Ajay', 'Mohan', 'Akash', 'Ridhima'])"
      ]
     },
     "execution_count": 127,
     "metadata": {},
     "output_type": "execute_result"
    }
   ],
   "source": [
    "d.keys()"
   ]
  },
  {
   "cell_type": "code",
   "execution_count": 128,
   "id": "6b103070",
   "metadata": {},
   "outputs": [
    {
     "data": {
      "text/plain": [
       "dict_values([78, 89, 77, 87])"
      ]
     },
     "execution_count": 128,
     "metadata": {},
     "output_type": "execute_result"
    }
   ],
   "source": [
    "d.values()"
   ]
  },
  {
   "cell_type": "code",
   "execution_count": 129,
   "id": "0ca3adae",
   "metadata": {},
   "outputs": [
    {
     "data": {
      "text/plain": [
       "dict_items([('Ajay', 78), ('Mohan', 89), ('Akash', 77), ('Ridhima', 87)])"
      ]
     },
     "execution_count": 129,
     "metadata": {},
     "output_type": "execute_result"
    }
   ],
   "source": [
    "d.items()               # displayed in form of 'list of tuple'"
   ]
  },
  {
   "cell_type": "code",
   "execution_count": 136,
   "id": "8bb2662a",
   "metadata": {},
   "outputs": [
    {
     "data": {
      "text/plain": [
       "4267632524171647682"
      ]
     },
     "execution_count": 136,
     "metadata": {},
     "output_type": "execute_result"
    }
   ],
   "source": [
    "hash('Ajay')                    "
   ]
  },
  {
   "cell_type": "code",
   "execution_count": 137,
   "id": "8be0c949",
   "metadata": {},
   "outputs": [
    {
     "ename": "TypeError",
     "evalue": "unhashable type: 'list'",
     "output_type": "error",
     "traceback": [
      "\u001b[1;31m---------------------------------------------------------------------------\u001b[0m",
      "\u001b[1;31mTypeError\u001b[0m                                 Traceback (most recent call last)",
      "Input \u001b[1;32mIn [137]\u001b[0m, in \u001b[0;36m<cell line: 1>\u001b[1;34m()\u001b[0m\n\u001b[1;32m----> 1\u001b[0m \u001b[38;5;28;43mhash\u001b[39;49m\u001b[43m(\u001b[49m\u001b[43m[\u001b[49m\u001b[38;5;241;43m2\u001b[39;49m\u001b[43m,\u001b[49m\u001b[38;5;241;43m3\u001b[39;49m\u001b[43m,\u001b[49m\u001b[38;5;241;43m4\u001b[39;49m\u001b[43m,\u001b[49m\u001b[38;5;241;43m5\u001b[39;49m\u001b[43m]\u001b[49m\u001b[43m)\u001b[49m\n",
      "\u001b[1;31mTypeError\u001b[0m: unhashable type: 'list'"
     ]
    }
   ],
   "source": [
    "hash([2,3,4,5])          "
   ]
  },
  {
   "cell_type": "code",
   "execution_count": 138,
   "id": "3bd1c73e",
   "metadata": {},
   "outputs": [
    {
     "data": {
      "text/plain": [
       "529344067295497451"
      ]
     },
     "execution_count": 138,
     "metadata": {},
     "output_type": "execute_result"
    }
   ],
   "source": [
    "hash((1,2,3))"
   ]
  },
  {
   "cell_type": "code",
   "execution_count": 1,
   "id": "52211319",
   "metadata": {},
   "outputs": [
    {
     "data": {
      "text/plain": [
       "1"
      ]
     },
     "execution_count": 1,
     "metadata": {},
     "output_type": "execute_result"
    }
   ],
   "source": [
    "hash(True)"
   ]
  },
  {
   "cell_type": "code",
   "execution_count": 3,
   "id": "7c2bc25a",
   "metadata": {},
   "outputs": [
    {
     "data": {
      "text/plain": [
       "6000026"
      ]
     },
     "execution_count": 3,
     "metadata": {},
     "output_type": "execute_result"
    }
   ],
   "source": [
    "hash(8+6j)"
   ]
  },
  {
   "cell_type": "markdown",
   "id": "f3276250",
   "metadata": {},
   "source": [
    "## Keys must be hashable datatypes and unique while we can have any datatype as a value."
   ]
  },
  {
   "cell_type": "markdown",
   "id": "a7fde755",
   "metadata": {},
   "source": [
    "### Mutable            = unhashable\n",
    "### Immutable       =  hashable"
   ]
  },
  {
   "cell_type": "code",
   "execution_count": 62,
   "id": "941bdda0",
   "metadata": {},
   "outputs": [],
   "source": [
    "# .get(), .setdefault()"
   ]
  },
  {
   "cell_type": "code",
   "execution_count": 134,
   "id": "8250b7f1",
   "metadata": {},
   "outputs": [
    {
     "data": {
      "text/plain": [
       "78"
      ]
     },
     "execution_count": 134,
     "metadata": {},
     "output_type": "execute_result"
    }
   ],
   "source": [
    "d.get('Ajay')"
   ]
  },
  {
   "cell_type": "code",
   "execution_count": 139,
   "id": "045b1232",
   "metadata": {},
   "outputs": [],
   "source": [
    "d.get('Rajesh')"
   ]
  },
  {
   "cell_type": "code",
   "execution_count": 140,
   "id": "abdee80a",
   "metadata": {},
   "outputs": [
    {
     "data": {
      "text/plain": [
       "{'Ajay': 78, 'Mohan': 89, 'Akash': 77, 'Ridhima': 87}"
      ]
     },
     "execution_count": 140,
     "metadata": {},
     "output_type": "execute_result"
    }
   ],
   "source": [
    "d"
   ]
  },
  {
   "cell_type": "code",
   "execution_count": 142,
   "id": "2e1c8013",
   "metadata": {},
   "outputs": [
    {
     "data": {
      "text/plain": [
       "100"
      ]
     },
     "execution_count": 142,
     "metadata": {},
     "output_type": "execute_result"
    }
   ],
   "source": [
    "d.setdefault('Rajesh',100)"
   ]
  },
  {
   "cell_type": "code",
   "execution_count": 143,
   "id": "29aea94f",
   "metadata": {},
   "outputs": [
    {
     "data": {
      "text/plain": [
       "{'Ajay': 78, 'Mohan': 89, 'Akash': 77, 'Ridhima': 87, 'Rajesh': 100}"
      ]
     },
     "execution_count": 143,
     "metadata": {},
     "output_type": "execute_result"
    }
   ],
   "source": [
    "d"
   ]
  },
  {
   "cell_type": "code",
   "execution_count": 144,
   "id": "8f6a414b",
   "metadata": {},
   "outputs": [],
   "source": [
    "d['Ramesh'] = 77"
   ]
  },
  {
   "cell_type": "code",
   "execution_count": 151,
   "id": "89d75927",
   "metadata": {},
   "outputs": [
    {
     "data": {
      "text/plain": [
       "{'Ajay': 78, 'Akash': 77, 'Ridhima': 87, 'Rajesh': 100, 'Ramesh': 77}"
      ]
     },
     "execution_count": 151,
     "metadata": {},
     "output_type": "execute_result"
    }
   ],
   "source": [
    "d"
   ]
  },
  {
   "cell_type": "code",
   "execution_count": 152,
   "id": "404d266a",
   "metadata": {},
   "outputs": [],
   "source": [
    "del d['Akash']"
   ]
  },
  {
   "cell_type": "code",
   "execution_count": 153,
   "id": "08b85ed5",
   "metadata": {},
   "outputs": [
    {
     "data": {
      "text/plain": [
       "{'Ajay': 78, 'Ridhima': 87, 'Rajesh': 100, 'Ramesh': 77}"
      ]
     },
     "execution_count": 153,
     "metadata": {},
     "output_type": "execute_result"
    }
   ],
   "source": [
    "d"
   ]
  },
  {
   "cell_type": "code",
   "execution_count": 64,
   "id": "d484f068",
   "metadata": {},
   "outputs": [],
   "source": [
    "# creating dictionary using two lists (zip function)"
   ]
  },
  {
   "cell_type": "code",
   "execution_count": 154,
   "id": "8c395b43",
   "metadata": {},
   "outputs": [],
   "source": [
    "li = [1,2,3,4,5,6,7]\n",
    "\n",
    "sq_li = [1,4,9,16,25,36,49]"
   ]
  },
  {
   "cell_type": "code",
   "execution_count": 157,
   "id": "2373c80b",
   "metadata": {},
   "outputs": [],
   "source": [
    "d1 = dict(zip(li,sq_li))"
   ]
  },
  {
   "cell_type": "code",
   "execution_count": 158,
   "id": "14dea8ba",
   "metadata": {},
   "outputs": [
    {
     "data": {
      "text/plain": [
       "{1: 1, 2: 4, 3: 9, 4: 16, 5: 25, 6: 36, 7: 49}"
      ]
     },
     "execution_count": 158,
     "metadata": {},
     "output_type": "execute_result"
    }
   ],
   "source": [
    "d1"
   ]
  },
  {
   "cell_type": "markdown",
   "id": "ab8d2daa",
   "metadata": {},
   "source": [
    "# Immutable  =  String, Tuple"
   ]
  },
  {
   "cell_type": "markdown",
   "id": "a7f08ddc",
   "metadata": {},
   "source": [
    "# Mutable = List, Dictionary, Set"
   ]
  },
  {
   "cell_type": "code",
   "execution_count": null,
   "id": "52d4ed24",
   "metadata": {},
   "outputs": [],
   "source": []
  }
 ],
 "metadata": {
  "kernelspec": {
   "display_name": "Python 3 (ipykernel)",
   "language": "python",
   "name": "python3"
  },
  "language_info": {
   "codemirror_mode": {
    "name": "ipython",
    "version": 3
   },
   "file_extension": ".py",
   "mimetype": "text/x-python",
   "name": "python",
   "nbconvert_exporter": "python",
   "pygments_lexer": "ipython3",
   "version": "3.9.12"
  }
 },
 "nbformat": 4,
 "nbformat_minor": 5
}
