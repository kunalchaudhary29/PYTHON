{
 "cells": [
  {
   "cell_type": "markdown",
   "id": "58003d5e",
   "metadata": {},
   "source": [
    "## SCOPE"
   ]
  },
  {
   "cell_type": "code",
   "execution_count": null,
   "id": "1c5c7074",
   "metadata": {},
   "outputs": [],
   "source": [
    "var_g = 23   # global variable (scope is global)"
   ]
  },
  {
   "cell_type": "code",
   "execution_count": null,
   "id": "6fd72c76",
   "metadata": {},
   "outputs": [],
   "source": [
    "var_g"
   ]
  },
  {
   "cell_type": "code",
   "execution_count": null,
   "id": "c88d99d0",
   "metadata": {},
   "outputs": [],
   "source": [
    "def outer():\n",
    "    var_l = 15\n",
    "    global var_g       # define var_g as as a global variable\n",
    "    var_l = var_l + 5\n",
    "    var_g = var_g + 5\n",
    "    print(var_l)   # local variable (scope is local)\n",
    "    print(var_g)\n",
    "outer()    "
   ]
  },
  {
   "cell_type": "code",
   "execution_count": null,
   "id": "3bf398ab",
   "metadata": {},
   "outputs": [],
   "source": [
    "var_l"
   ]
  },
  {
   "cell_type": "code",
   "execution_count": null,
   "id": "d82409f7",
   "metadata": {},
   "outputs": [],
   "source": [
    "var_g"
   ]
  },
  {
   "cell_type": "markdown",
   "id": "68f1dcdd",
   "metadata": {},
   "source": [
    "### 1. Global variables can be called anywhere in a notebook even inside the function.\n",
    "\n",
    "### 2. Local variables are the variables which are defined in a function and the scope of these variables are limited            to that function only.\n",
    "\n",
    "### 3. Problem occurs when we try to modify a global variable in a function."
   ]
  },
  {
   "cell_type": "code",
   "execution_count": null,
   "id": "bd946eec",
   "metadata": {},
   "outputs": [],
   "source": [
    "var_g = 25             #global variable\n",
    "def outer():\n",
    "    var_e = 15         #enclosed variable\n",
    "    def inner():\n",
    "        global var_g\n",
    "        nonlocal var_e\n",
    "        var_l = 30 \n",
    "        var_l = var_l + 5  #local variable\n",
    "        var_e = var_e + 5\n",
    "        var_g = var_g + 5\n",
    "        print(var_g)\n",
    "        print(var_e)\n",
    "        print(var_l)\n",
    "        \n",
    "    inner()\n",
    "    print(var_g)\n",
    "    print(var_e)\n",
    "   #print(var_l)\n",
    "    \n",
    "outer()    "
   ]
  },
  {
   "cell_type": "code",
   "execution_count": null,
   "id": "966b9fb8",
   "metadata": {},
   "outputs": [],
   "source": [
    "var_g"
   ]
  },
  {
   "cell_type": "code",
   "execution_count": null,
   "id": "aacc2422",
   "metadata": {},
   "outputs": [],
   "source": [
    "var_e"
   ]
  },
  {
   "cell_type": "code",
   "execution_count": null,
   "id": "2053d4e6",
   "metadata": {},
   "outputs": [],
   "source": [
    "import math as m"
   ]
  },
  {
   "cell_type": "code",
   "execution_count": null,
   "id": "a26b6be1",
   "metadata": {},
   "outputs": [],
   "source": [
    "m.pi            # Built in variable"
   ]
  },
  {
   "cell_type": "markdown",
   "id": "3fe2742c",
   "metadata": {},
   "source": [
    "## Recursive Function"
   ]
  },
  {
   "cell_type": "raw",
   "id": "89566324",
   "metadata": {},
   "source": [
    "A recursive function is a function defined in terms of itself via self-referential expressions.\n",
    "\n",
    "The function will continue to call itself and repeat its behavior until some condition is met to return a result."
   ]
  },
  {
   "cell_type": "code",
   "execution_count": null,
   "id": "3cff0611",
   "metadata": {},
   "outputs": [],
   "source": [
    "def function():\n",
    "    function()"
   ]
  },
  {
   "cell_type": "code",
   "execution_count": null,
   "id": "ac2c2cf0",
   "metadata": {},
   "outputs": [],
   "source": [
    "def rec_func(name,n):\n",
    "    if n==0:\n",
    "        return 'Go'\n",
    "    print(name)\n",
    "    rec_func(name,n-1)"
   ]
  },
  {
   "cell_type": "code",
   "execution_count": null,
   "id": "f147c2b4",
   "metadata": {},
   "outputs": [],
   "source": [
    "rec_func('Aniket',5)"
   ]
  },
  {
   "cell_type": "raw",
   "id": "294ab808",
   "metadata": {},
   "source": [
    "Q. Print sum of numbers from 1 to n using recursive function"
   ]
  },
  {
   "cell_type": "code",
   "execution_count": null,
   "id": "36eb1d20",
   "metadata": {},
   "outputs": [],
   "source": [
    "def sum_of_n(n):\n",
    "    print('Here sum_of_n is called with n=',n)\n",
    "    if n==1:\n",
    "        return 1\n",
    "    res = n + sum_of_n(n-1)\n",
    "    print('Here res is sum of',n,'and sum_of_n(',n-1,') is',res)\n",
    "    return res"
   ]
  },
  {
   "cell_type": "code",
   "execution_count": null,
   "id": "3bf63820",
   "metadata": {},
   "outputs": [],
   "source": [
    "sum_of_n(5)"
   ]
  },
  {
   "cell_type": "code",
   "execution_count": null,
   "id": "a7fbf5fe",
   "metadata": {},
   "outputs": [],
   "source": [
    "def fact_of_n(n):\n",
    "    print('n which is passed in function:',n)\n",
    "    if n == 1:\n",
    "        return 1\n",
    "    fact = n * fact_of_n(n-1)\n",
    "    print('fact',n,n-1,fact)\n",
    "    return fact"
   ]
  },
  {
   "cell_type": "code",
   "execution_count": null,
   "id": "bd1b0755",
   "metadata": {},
   "outputs": [],
   "source": [
    "fact_of_n(5)"
   ]
  },
  {
   "cell_type": "markdown",
   "id": "9d406f8e",
   "metadata": {},
   "source": [
    "## Comprehensions Practice"
   ]
  },
  {
   "cell_type": "raw",
   "id": "c398f935",
   "metadata": {},
   "source": [
    "Q. create a list of numbers divisible by 5 and 7 using list comprehension"
   ]
  },
  {
   "cell_type": "code",
   "execution_count": null,
   "id": "5eddc0ce",
   "metadata": {},
   "outputs": [],
   "source": [
    "[i for i in range(1,500) if i%5==0 and i%7==0]"
   ]
  },
  {
   "cell_type": "code",
   "execution_count": null,
   "id": "a437c752",
   "metadata": {},
   "outputs": [],
   "source": [
    "name = ['Apple','Guava','Cherry','Banana','Mango']\n",
    "price = [65,40,70,20,100]"
   ]
  },
  {
   "cell_type": "code",
   "execution_count": null,
   "id": "56d326bb",
   "metadata": {},
   "outputs": [],
   "source": [
    "fruit = {k:v for k,v in zip(name,price)}"
   ]
  },
  {
   "cell_type": "code",
   "execution_count": null,
   "id": "d2e48aaa",
   "metadata": {},
   "outputs": [],
   "source": [
    "fruit"
   ]
  },
  {
   "cell_type": "code",
   "execution_count": null,
   "id": "b123755f",
   "metadata": {},
   "outputs": [],
   "source": [
    "veg = {'Tomato':50,'Potato':30}"
   ]
  },
  {
   "cell_type": "code",
   "execution_count": null,
   "id": "775acc09",
   "metadata": {},
   "outputs": [],
   "source": [
    "fruit.update(veg)\n",
    "fruit"
   ]
  },
  {
   "cell_type": "code",
   "execution_count": null,
   "id": "1e844dbc",
   "metadata": {},
   "outputs": [],
   "source": [
    "veg['Carrot'] = 30"
   ]
  },
  {
   "cell_type": "code",
   "execution_count": null,
   "id": "3ce645bd",
   "metadata": {},
   "outputs": [],
   "source": [
    "veg"
   ]
  },
  {
   "cell_type": "code",
   "execution_count": null,
   "id": "5482b1db",
   "metadata": {},
   "outputs": [],
   "source": [
    "# remove mango\n",
    "\n",
    "fruit.pop('Mango')"
   ]
  },
  {
   "cell_type": "code",
   "execution_count": null,
   "id": "18a1bf1f",
   "metadata": {},
   "outputs": [],
   "source": [
    "del fruit['Cherry']"
   ]
  },
  {
   "cell_type": "code",
   "execution_count": null,
   "id": "15c665d6",
   "metadata": {},
   "outputs": [],
   "source": [
    "fruit"
   ]
  },
  {
   "cell_type": "markdown",
   "id": "0eedf311",
   "metadata": {},
   "source": [
    "## Nested For"
   ]
  },
  {
   "cell_type": "code",
   "execution_count": null,
   "id": "31a756c2",
   "metadata": {},
   "outputs": [],
   "source": [
    "li = [[2,3,5,],[1,7,'Hello',4],[7,8,'Hi',3,'Bye']]"
   ]
  },
  {
   "cell_type": "code",
   "execution_count": null,
   "id": "a0383e02",
   "metadata": {},
   "outputs": [],
   "source": [
    "# Create two list num_list and str_list from the above list\n",
    "li"
   ]
  },
  {
   "cell_type": "code",
   "execution_count": null,
   "id": "bded79a4",
   "metadata": {},
   "outputs": [],
   "source": [
    "num_list = []\n",
    "str_list = []\n",
    "\n",
    "for sublist in li:\n",
    "    for item in sublist:\n",
    "        if isinstance(item, int):\n",
    "            num_list.append(item)\n",
    "        elif isinstance(item, str):\n",
    "            str_list.append(item)\n",
    "\n",
    "print(num_list)\n",
    "print(str_list)\n"
   ]
  },
  {
   "cell_type": "code",
   "execution_count": null,
   "id": "6d26c528",
   "metadata": {},
   "outputs": [],
   "source": [
    "num_list=[]\n",
    "str_list=[]\n",
    "\n",
    "for i in li:\n",
    "    for j in i:\n",
    "        if type(j) in [int,float]:\n",
    "            num_list.append(j)\n",
    "        else:\n",
    "            str_list.append(j)\n",
    "            \n",
    "print(num_list)\n",
    "print(str_list)"
   ]
  },
  {
   "cell_type": "code",
   "execution_count": null,
   "id": "9bdf2b8a",
   "metadata": {},
   "outputs": [],
   "source": [
    "# find the average of all the values in list\n",
    "\n",
    "li = [[2,3,5],[1,7,8,4],[7,8,11,3,4]]\n"
   ]
  },
  {
   "cell_type": "code",
   "execution_count": null,
   "id": "9116e8b1",
   "metadata": {},
   "outputs": [],
   "source": [
    "n = 0\n",
    "t = 0\n",
    "for i in li:\n",
    "    for j in i:\n",
    "        t+=j\n",
    "        n+=1\n",
    "    avg = t/n   \n",
    "print(avg)    "
   ]
  },
  {
   "cell_type": "code",
   "execution_count": null,
   "id": "4d155269",
   "metadata": {},
   "outputs": [],
   "source": [
    "inp = 23,56,87,56\n",
    "li = list(inp)"
   ]
  },
  {
   "cell_type": "code",
   "execution_count": null,
   "id": "44cfa4ff",
   "metadata": {},
   "outputs": [],
   "source": [
    "inp = 23,56,74,89,55\n",
    "\n",
    "list_inp = list(inp)\n",
    "tuple_inp = tuple(inp)\n",
    "\n",
    "print(\"The list is\", list_inp)\n",
    "print(\"The tuple is\", tuple_inp)\n"
   ]
  },
  {
   "cell_type": "code",
   "execution_count": null,
   "id": "ce24e984",
   "metadata": {},
   "outputs": [],
   "source": [
    "# Pallindrome\n",
    "\n",
    "x = int(input('Enter a number:'))\n",
    "if x[::-1]==x:\n",
    "    print('Pallindrome')\n",
    "else:\n",
    "    print('Not pallindrome')"
   ]
  },
  {
   "cell_type": "code",
   "execution_count": null,
   "id": "85d23594",
   "metadata": {},
   "outputs": [],
   "source": []
  }
 ],
 "metadata": {
  "kernelspec": {
   "display_name": "Python 3 (ipykernel)",
   "language": "python",
   "name": "python3"
  },
  "language_info": {
   "codemirror_mode": {
    "name": "ipython",
    "version": 3
   },
   "file_extension": ".py",
   "mimetype": "text/x-python",
   "name": "python",
   "nbconvert_exporter": "python",
   "pygments_lexer": "ipython3",
   "version": "3.9.12"
  }
 },
 "nbformat": 4,
 "nbformat_minor": 5
}
