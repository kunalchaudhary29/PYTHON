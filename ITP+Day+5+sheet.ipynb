{
 "cells": [
  {
   "cell_type": "markdown",
   "id": "5229f1e8",
   "metadata": {},
   "source": [
    "## User-defined functions"
   ]
  },
  {
   "cell_type": "raw",
   "id": "64417e48",
   "metadata": {},
   "source": [
    "A function that a user defines in a program is known as user defined function\n",
    "\n",
    "A user can give any name to a user-defined function. However a function name should not have space or special character"
   ]
  },
  {
   "cell_type": "markdown",
   "id": "436c1f11",
   "metadata": {},
   "source": [
    "### The def keyword"
   ]
  },
  {
   "cell_type": "raw",
   "id": "c7d2377c",
   "metadata": {},
   "source": [
    "In python, a user-defined function is created using the def keyword, followed by the function name."
   ]
  },
  {
   "cell_type": "code",
   "execution_count": 1,
   "id": "4c078c72",
   "metadata": {},
   "outputs": [],
   "source": [
    "# Why do we need function"
   ]
  },
  {
   "cell_type": "code",
   "execution_count": 2,
   "id": "4612589b",
   "metadata": {},
   "outputs": [
    {
     "name": "stdout",
     "output_type": "stream",
     "text": [
      "Hello Student\n",
      "Welcome to the class\n",
      "have a nice day\n"
     ]
    }
   ],
   "source": [
    "print('Hello Student')         # We have to write the three linecode again and agian whenever we \n",
    "print('Welcome to the class')  # have to greet a learner.\n",
    "print('have a nice day')"
   ]
  },
  {
   "cell_type": "code",
   "execution_count": 3,
   "id": "28b3ad02",
   "metadata": {},
   "outputs": [
    {
     "name": "stdout",
     "output_type": "stream",
     "text": [
      "Hello Student\n",
      "Welcome to the class\n",
      "have a nice day\n"
     ]
    }
   ],
   "source": [
    "print('Hello Student')\n",
    "print('Welcome to the class')\n",
    "print('have a nice day')"
   ]
  },
  {
   "cell_type": "code",
   "execution_count": 4,
   "id": "feb8a6e3",
   "metadata": {},
   "outputs": [],
   "source": [
    "# Lets create a function instead\n",
    "def greeting(): # function definition\n",
    "    print('Hello Student')\n",
    "    print('Welcome to the class')\n",
    "    print('have a nice day')"
   ]
  },
  {
   "cell_type": "code",
   "execution_count": 5,
   "id": "bf292fb6",
   "metadata": {},
   "outputs": [
    {
     "name": "stdout",
     "output_type": "stream",
     "text": [
      "Hello Student\n",
      "Welcome to the class\n",
      "have a nice day\n"
     ]
    }
   ],
   "source": [
    "greeting()  # function calling"
   ]
  },
  {
   "cell_type": "code",
   "execution_count": 6,
   "id": "6a51e280",
   "metadata": {},
   "outputs": [
    {
     "name": "stdout",
     "output_type": "stream",
     "text": [
      "Hello Student\n",
      "Welcome to the class\n",
      "have a nice day\n"
     ]
    }
   ],
   "source": [
    "greeting()"
   ]
  },
  {
   "cell_type": "code",
   "execution_count": 7,
   "id": "4a0df3ce",
   "metadata": {},
   "outputs": [],
   "source": [
    "# Lets pass arguments in a function\n",
    "\n",
    "def greeting(name):           # Here name is function parameter\n",
    "    print('Hello',name)\n",
    "    print('Welcome to the class')\n",
    "    print('have a nice day')"
   ]
  },
  {
   "cell_type": "code",
   "execution_count": 8,
   "id": "fff80b08",
   "metadata": {},
   "outputs": [
    {
     "name": "stdout",
     "output_type": "stream",
     "text": [
      "Hello Ajay\n",
      "Welcome to the class\n",
      "have a nice day\n"
     ]
    }
   ],
   "source": [
    "greeting('Ajay')  # 'Ajay' is the argument which is being passed"
   ]
  },
  {
   "cell_type": "code",
   "execution_count": 9,
   "id": "d0232c98",
   "metadata": {},
   "outputs": [
    {
     "name": "stdout",
     "output_type": "stream",
     "text": [
      "Hello Neha\n",
      "Welcome to the class\n",
      "have a nice day\n"
     ]
    }
   ],
   "source": [
    "greeting('Neha')"
   ]
  },
  {
   "cell_type": "code",
   "execution_count": 10,
   "id": "2f00e192",
   "metadata": {},
   "outputs": [],
   "source": [
    "# Passing more than one argument\n",
    "def greeting(name,shift):           # Here name and shift is function parameter\n",
    "    print('Hello',name)\n",
    "    print('Welcome to the',shift,'class')\n",
    "    print('have a nice day')"
   ]
  },
  {
   "cell_type": "code",
   "execution_count": 11,
   "id": "b02f5175",
   "metadata": {},
   "outputs": [
    {
     "name": "stdout",
     "output_type": "stream",
     "text": [
      "Hello Mukesh\n",
      "Welcome to the Evening class\n",
      "have a nice day\n"
     ]
    }
   ],
   "source": [
    "greeting('Mukesh','Evening')"
   ]
  },
  {
   "cell_type": "code",
   "execution_count": 12,
   "id": "6f8796f4",
   "metadata": {},
   "outputs": [
    {
     "name": "stdout",
     "output_type": "stream",
     "text": [
      "Hello Muskan\n",
      "Welcome to the Morning class\n",
      "have a nice day\n"
     ]
    }
   ],
   "source": [
    "greeting('Muskan','Morning')"
   ]
  },
  {
   "cell_type": "raw",
   "id": "bd1a98c7",
   "metadata": {},
   "source": [
    "Q. Define a function that takes name and marks as parameters and print, for eg if name is 'Ravi' and marks are 87, then the print should be 'Ravi has scored 87 % of marks'."
   ]
  },
  {
   "cell_type": "code",
   "execution_count": 13,
   "id": "6fe6e7d3",
   "metadata": {},
   "outputs": [],
   "source": [
    "def result(name,marks):\n",
    "    print(name,'has scored',marks,'% of marks.')"
   ]
  },
  {
   "cell_type": "code",
   "execution_count": 14,
   "id": "1e8c1559",
   "metadata": {},
   "outputs": [
    {
     "name": "stdout",
     "output_type": "stream",
     "text": [
      "Ravi has scored 87 % of marks.\n"
     ]
    }
   ],
   "source": [
    "result('Ravi',87)"
   ]
  },
  {
   "cell_type": "raw",
   "id": "5f73a299",
   "metadata": {},
   "source": [
    "Q. Define a function that take two numbers as paramters and print their sum and product."
   ]
  },
  {
   "cell_type": "code",
   "execution_count": 15,
   "id": "8f485d2f",
   "metadata": {},
   "outputs": [],
   "source": [
    "def sum_product(a,b):\n",
    "    print('Sum:', a+b)\n",
    "    print('Product:',a*b)"
   ]
  },
  {
   "cell_type": "code",
   "execution_count": 16,
   "id": "a5ab00ac",
   "metadata": {},
   "outputs": [
    {
     "name": "stdout",
     "output_type": "stream",
     "text": [
      "Sum: 17\n",
      "Product: 72\n"
     ]
    }
   ],
   "source": [
    "sum_product(8,9)"
   ]
  },
  {
   "cell_type": "markdown",
   "id": "eb608c0c",
   "metadata": {},
   "source": [
    "###  return from a function"
   ]
  },
  {
   "cell_type": "code",
   "execution_count": 17,
   "id": "5157096d",
   "metadata": {},
   "outputs": [
    {
     "name": "stdout",
     "output_type": "stream",
     "text": [
      "Hello akash\n",
      "Welcome to the evening class\n",
      "have a nice day\n"
     ]
    }
   ],
   "source": [
    "ans = greeting('akash','evening')"
   ]
  },
  {
   "cell_type": "code",
   "execution_count": 18,
   "id": "b5c0e7fc",
   "metadata": {},
   "outputs": [
    {
     "name": "stdout",
     "output_type": "stream",
     "text": [
      "None\n"
     ]
    }
   ],
   "source": [
    "print(ans)"
   ]
  },
  {
   "cell_type": "code",
   "execution_count": 19,
   "id": "4f634eda",
   "metadata": {},
   "outputs": [],
   "source": [
    "def greeting(name,shift):           # Here name and shift is function parameter\n",
    "    print('Hello',name)\n",
    "    print('Welcome to the',shift,'class')\n",
    "    print('have a nice day')\n",
    "    return 'greeted'                 # return value from a function"
   ]
  },
  {
   "cell_type": "code",
   "execution_count": 20,
   "id": "fdabfc0d",
   "metadata": {},
   "outputs": [
    {
     "name": "stdout",
     "output_type": "stream",
     "text": [
      "Hello Akash\n",
      "Welcome to the Morning class\n",
      "have a nice day\n"
     ]
    }
   ],
   "source": [
    "ans = greeting('Akash','Morning')"
   ]
  },
  {
   "cell_type": "code",
   "execution_count": 21,
   "id": "825b1161",
   "metadata": {},
   "outputs": [
    {
     "name": "stdout",
     "output_type": "stream",
     "text": [
      "greeted\n"
     ]
    }
   ],
   "source": [
    "print(ans)"
   ]
  },
  {
   "cell_type": "code",
   "execution_count": 22,
   "id": "4169b4a3",
   "metadata": {},
   "outputs": [
    {
     "data": {
      "text/plain": [
       "'greeted'"
      ]
     },
     "execution_count": 22,
     "metadata": {},
     "output_type": "execute_result"
    }
   ],
   "source": [
    "ans"
   ]
  },
  {
   "cell_type": "raw",
   "id": "835398d5",
   "metadata": {},
   "source": [
    "Q. Define a function which takes radius as input and returns the area of the circle."
   ]
  },
  {
   "cell_type": "code",
   "execution_count": 23,
   "id": "adc1439e",
   "metadata": {},
   "outputs": [],
   "source": [
    "def circle(r):\n",
    "    ar = 3.14*r**2\n",
    "    return ar"
   ]
  },
  {
   "cell_type": "code",
   "execution_count": 24,
   "id": "e719f959",
   "metadata": {},
   "outputs": [],
   "source": [
    "ar = circle(3)"
   ]
  },
  {
   "cell_type": "code",
   "execution_count": 25,
   "id": "a8cbd4e9",
   "metadata": {},
   "outputs": [
    {
     "data": {
      "text/plain": [
       "28.26"
      ]
     },
     "execution_count": 25,
     "metadata": {},
     "output_type": "execute_result"
    }
   ],
   "source": [
    "ar"
   ]
  },
  {
   "cell_type": "code",
   "execution_count": 26,
   "id": "12b9a882",
   "metadata": {},
   "outputs": [],
   "source": [
    "def circle(r):\n",
    "    ar = 3.14*r**2\n",
    "    circum = 2*3.14*r\n",
    "    return ar, circum"
   ]
  },
  {
   "cell_type": "code",
   "execution_count": 27,
   "id": "0bc05cc5",
   "metadata": {},
   "outputs": [
    {
     "name": "stdout",
     "output_type": "stream",
     "text": [
      "36.2984 21.352\n"
     ]
    }
   ],
   "source": [
    "ar,cir = circle(3.4)\n",
    "print(ar,cir)"
   ]
  },
  {
   "cell_type": "raw",
   "id": "061804e5",
   "metadata": {},
   "source": [
    "Q. Define a function takes principle, rate and time as parameters and return simple interest. "
   ]
  },
  {
   "cell_type": "code",
   "execution_count": 28,
   "id": "67928ff0",
   "metadata": {},
   "outputs": [],
   "source": [
    "def simple(p,r,t):\n",
    "    si = (p*r*t)/100\n",
    "    return si"
   ]
  },
  {
   "cell_type": "code",
   "execution_count": 29,
   "id": "807db0e7",
   "metadata": {},
   "outputs": [],
   "source": [
    "ans = simple(5000,6.5,3)"
   ]
  },
  {
   "cell_type": "code",
   "execution_count": 30,
   "id": "d974bbfe",
   "metadata": {},
   "outputs": [
    {
     "data": {
      "text/plain": [
       "975.0"
      ]
     },
     "execution_count": 30,
     "metadata": {},
     "output_type": "execute_result"
    }
   ],
   "source": [
    "ans"
   ]
  },
  {
   "cell_type": "raw",
   "id": "36fb94e0",
   "metadata": {},
   "source": [
    "Q. Define a function that takes a number and prints if it is negative, positive or zero."
   ]
  },
  {
   "cell_type": "code",
   "execution_count": 31,
   "id": "d1b3ba3a",
   "metadata": {},
   "outputs": [],
   "source": [
    "def number(a):\n",
    "    if a>0:\n",
    "        print('Positive')\n",
    "    elif a<0:\n",
    "        print('Negative')\n",
    "    else:\n",
    "        print('Zero')"
   ]
  },
  {
   "cell_type": "code",
   "execution_count": 32,
   "id": "116123ff",
   "metadata": {},
   "outputs": [
    {
     "name": "stdout",
     "output_type": "stream",
     "text": [
      "Positive\n"
     ]
    }
   ],
   "source": [
    "number(35)"
   ]
  },
  {
   "cell_type": "code",
   "execution_count": 33,
   "id": "681b6bff",
   "metadata": {},
   "outputs": [
    {
     "name": "stdout",
     "output_type": "stream",
     "text": [
      "Negative\n"
     ]
    }
   ],
   "source": [
    "number(-58)"
   ]
  },
  {
   "cell_type": "code",
   "execution_count": 34,
   "id": "7e0b892f",
   "metadata": {},
   "outputs": [],
   "source": [
    "def bmi(height,weight):             #height and weight\n",
    "    bmi = weight/(height**2)\n",
    "    return round(bmi)"
   ]
  },
  {
   "cell_type": "code",
   "execution_count": 35,
   "id": "cdbd84ad",
   "metadata": {},
   "outputs": [
    {
     "data": {
      "text/plain": [
       "30"
      ]
     },
     "execution_count": 35,
     "metadata": {},
     "output_type": "execute_result"
    }
   ],
   "source": [
    "bmi(1.7,87)"
   ]
  },
  {
   "cell_type": "code",
   "execution_count": 36,
   "id": "516c2cba",
   "metadata": {},
   "outputs": [
    {
     "data": {
      "text/plain": [
       "27"
      ]
     },
     "execution_count": 36,
     "metadata": {},
     "output_type": "execute_result"
    }
   ],
   "source": [
    "bmi(1.8,88)"
   ]
  },
  {
   "cell_type": "code",
   "execution_count": 37,
   "id": "9e7af75c",
   "metadata": {},
   "outputs": [
    {
     "data": {
      "text/plain": [
       "36"
      ]
     },
     "execution_count": 37,
     "metadata": {},
     "output_type": "execute_result"
    }
   ],
   "source": [
    "ans = bmi(1.5,81)\n",
    "ans"
   ]
  },
  {
   "cell_type": "code",
   "execution_count": 38,
   "id": "9a8960ce",
   "metadata": {},
   "outputs": [
    {
     "name": "stdout",
     "output_type": "stream",
     "text": [
      "OverWeight\n"
     ]
    }
   ],
   "source": [
    "if ans>35:\n",
    "    print('OverWeight')\n",
    "else:\n",
    "    print('Normal')"
   ]
  },
  {
   "cell_type": "markdown",
   "id": "715d2f4e",
   "metadata": {},
   "source": [
    "## Keyword arguments"
   ]
  },
  {
   "cell_type": "code",
   "execution_count": 39,
   "id": "9db2c0ee",
   "metadata": {},
   "outputs": [],
   "source": [
    "def simple_int(p,r,t):\n",
    "    si = (p*r*t)/100\n",
    "    net = p+si\n",
    "    print('Simple Interest:',si)\n",
    "    print('Net amount:',net)"
   ]
  },
  {
   "cell_type": "code",
   "execution_count": 40,
   "id": "822f9d6d",
   "metadata": {},
   "outputs": [
    {
     "name": "stdout",
     "output_type": "stream",
     "text": [
      "Simple Interest: 3042.0\n",
      "Net amount: 3046.5\n"
     ]
    }
   ],
   "source": [
    "simple_int(4.5,8450,8)"
   ]
  },
  {
   "cell_type": "code",
   "execution_count": 41,
   "id": "28384759",
   "metadata": {},
   "outputs": [
    {
     "name": "stdout",
     "output_type": "stream",
     "text": [
      "Simple Interest: 337.5\n",
      "Net amount: 2837.5\n"
     ]
    }
   ],
   "source": [
    "simple_int(r=4.5,p=2500,t=3)"
   ]
  },
  {
   "cell_type": "raw",
   "id": "68970252",
   "metadata": {},
   "source": [
    "Q. Define a function that takes distance and fuel consumed as parameters and print the milage of the vehicle. (use keyword arguments)"
   ]
  },
  {
   "cell_type": "code",
   "execution_count": 42,
   "id": "eb22b6c4",
   "metadata": {},
   "outputs": [],
   "source": [
    "def mileage(dist,fuel):\n",
    "    mileage = dist/fuel\n",
    "    print('Mileage is:',mileage)"
   ]
  },
  {
   "cell_type": "code",
   "execution_count": 43,
   "id": "86f8b506",
   "metadata": {},
   "outputs": [
    {
     "name": "stdout",
     "output_type": "stream",
     "text": [
      "Mileage is: 37.5\n"
     ]
    }
   ],
   "source": [
    "mileage(fuel=8,dist=300)"
   ]
  },
  {
   "cell_type": "markdown",
   "id": "f9e2a057",
   "metadata": {},
   "source": [
    "## Default arguments"
   ]
  },
  {
   "cell_type": "code",
   "execution_count": 44,
   "id": "1a5a803b",
   "metadata": {},
   "outputs": [
    {
     "name": "stdout",
     "output_type": "stream",
     "text": [
      "\n"
     ]
    }
   ],
   "source": [
    "print()"
   ]
  },
  {
   "cell_type": "code",
   "execution_count": 45,
   "id": "8665844f",
   "metadata": {},
   "outputs": [],
   "source": [
    "def simple_int(p,t=2,r=4.5):\n",
    "    si = (p*r*t)/100\n",
    "    print('Simple Interest:',si)"
   ]
  },
  {
   "cell_type": "code",
   "execution_count": 46,
   "id": "d5d517d3",
   "metadata": {},
   "outputs": [
    {
     "name": "stdout",
     "output_type": "stream",
     "text": [
      "Simple Interest: 225.0\n"
     ]
    }
   ],
   "source": [
    "simple_int(p=2500)            # default arg"
   ]
  },
  {
   "cell_type": "code",
   "execution_count": 47,
   "id": "7442b179",
   "metadata": {},
   "outputs": [
    {
     "name": "stdout",
     "output_type": "stream",
     "text": [
      "Simple Interest: 450.0\n"
     ]
    }
   ],
   "source": [
    "simple_int(2500,4)           # positional arg"
   ]
  },
  {
   "cell_type": "code",
   "execution_count": 48,
   "id": "1ee73bcc",
   "metadata": {},
   "outputs": [
    {
     "name": "stdout",
     "output_type": "stream",
     "text": [
      "Simple Interest: 600.0\n"
     ]
    }
   ],
   "source": [
    "simple_int(2500,r=6,t=4)     # keyworded arg"
   ]
  },
  {
   "cell_type": "markdown",
   "id": "7516987f",
   "metadata": {},
   "source": [
    "## Variable-length arguments using *arg keyword"
   ]
  },
  {
   "cell_type": "code",
   "execution_count": 49,
   "id": "49785fbd",
   "metadata": {},
   "outputs": [],
   "source": [
    "def nums(n):\n",
    "    print(n)"
   ]
  },
  {
   "cell_type": "code",
   "execution_count": 50,
   "id": "1b2a12b9",
   "metadata": {},
   "outputs": [
    {
     "name": "stdout",
     "output_type": "stream",
     "text": [
      "34\n"
     ]
    }
   ],
   "source": [
    "nums(34)"
   ]
  },
  {
   "cell_type": "code",
   "execution_count": 51,
   "id": "dbb2a4ed",
   "metadata": {},
   "outputs": [
    {
     "ename": "TypeError",
     "evalue": "nums() takes 1 positional argument but 3 were given",
     "output_type": "error",
     "traceback": [
      "\u001b[1;31m---------------------------------------------------------------------------\u001b[0m",
      "\u001b[1;31mTypeError\u001b[0m                                 Traceback (most recent call last)",
      "Input \u001b[1;32mIn [51]\u001b[0m, in \u001b[0;36m<cell line: 1>\u001b[1;34m()\u001b[0m\n\u001b[1;32m----> 1\u001b[0m \u001b[43mnums\u001b[49m\u001b[43m(\u001b[49m\u001b[38;5;241;43m34\u001b[39;49m\u001b[43m,\u001b[49m\u001b[38;5;241;43m56\u001b[39;49m\u001b[43m,\u001b[49m\u001b[38;5;241;43m89\u001b[39;49m\u001b[43m)\u001b[49m\n",
      "\u001b[1;31mTypeError\u001b[0m: nums() takes 1 positional argument but 3 were given"
     ]
    }
   ],
   "source": [
    "nums(34,56,89)"
   ]
  },
  {
   "cell_type": "code",
   "execution_count": null,
   "id": "05f47ce8",
   "metadata": {},
   "outputs": [],
   "source": [
    "def nums(*n):\n",
    "    print(n)\n",
    "    print(type(n))"
   ]
  },
  {
   "cell_type": "code",
   "execution_count": null,
   "id": "a4b3f342",
   "metadata": {},
   "outputs": [],
   "source": [
    "nums(34,56,89)"
   ]
  },
  {
   "cell_type": "code",
   "execution_count": null,
   "id": "fdfaca5f",
   "metadata": {},
   "outputs": [],
   "source": [
    "def average(*nums):\n",
    "    add = sum(nums)\n",
    "    count = len(nums)\n",
    "    return add/count"
   ]
  },
  {
   "cell_type": "code",
   "execution_count": null,
   "id": "286b32b9",
   "metadata": {},
   "outputs": [],
   "source": [
    "average(23,45,12,56,89,32,65,11)"
   ]
  },
  {
   "cell_type": "code",
   "execution_count": null,
   "id": "800748c6",
   "metadata": {},
   "outputs": [],
   "source": [
    "def func(*nums):\n",
    "    return nums"
   ]
  },
  {
   "cell_type": "code",
   "execution_count": null,
   "id": "05776169",
   "metadata": {},
   "outputs": [],
   "source": [
    "func(34,56,21,88,65)"
   ]
  },
  {
   "cell_type": "raw",
   "id": "4f128c10",
   "metadata": {},
   "source": [
    "Q. define a function which takes any number or arguments and returns the mean of the largest and smallest argument."
   ]
  },
  {
   "cell_type": "code",
   "execution_count": null,
   "id": "828844b6",
   "metadata": {},
   "outputs": [],
   "source": [
    "def num1(*nu):\n",
    "    mean = (max(nu)+min(nu))/2\n",
    "    return mean"
   ]
  },
  {
   "cell_type": "code",
   "execution_count": null,
   "id": "4fe3c067",
   "metadata": {},
   "outputs": [],
   "source": [
    "num1(89,54,64,23,46,78,12)"
   ]
  },
  {
   "cell_type": "markdown",
   "id": "9c4b2cd7",
   "metadata": {},
   "source": [
    "## Variable-length keyworded arguments using **kwargs\n"
   ]
  },
  {
   "cell_type": "code",
   "execution_count": null,
   "id": "293fa004",
   "metadata": {},
   "outputs": [],
   "source": [
    "def description(**info):\n",
    "    return info\n",
    "    print(type(**info))"
   ]
  },
  {
   "cell_type": "code",
   "execution_count": null,
   "id": "75af319f",
   "metadata": {},
   "outputs": [],
   "source": [
    "description(Name='Anjali',Gender='Female',Salary=160000)"
   ]
  },
  {
   "cell_type": "code",
   "execution_count": null,
   "id": "d30e4eb4",
   "metadata": {},
   "outputs": [],
   "source": [
    "def description(**info):\n",
    "    for i in info.keys():\n",
    "        print(i)\n",
    "    for i in info.values():\n",
    "        print(i)"
   ]
  },
  {
   "cell_type": "code",
   "execution_count": null,
   "id": "e8fef527",
   "metadata": {},
   "outputs": [],
   "source": [
    "description(Name='Mukesh',Designation = 'Manager',Age=27)"
   ]
  },
  {
   "cell_type": "code",
   "execution_count": null,
   "id": "75f4d5b6",
   "metadata": {},
   "outputs": [],
   "source": [
    "description(Name='Anjali',Gender='Female',Salary=160000)"
   ]
  },
  {
   "cell_type": "raw",
   "id": "e7a3bdec",
   "metadata": {},
   "source": [
    "Q. Take the details of the customer as keyworded arguments and dsiplay the details in given format\n",
    "Name -- Ajay\n",
    "Surname -- Sharma\n",
    "Mno -- 9999888877"
   ]
  },
  {
   "cell_type": "code",
   "execution_count": null,
   "id": "b48571ba",
   "metadata": {},
   "outputs": [],
   "source": [
    "def cust(**details):\n",
    "    for k,v in details.items():\n",
    "        print(k,'--',v)"
   ]
  },
  {
   "cell_type": "code",
   "execution_count": null,
   "id": "093a987a",
   "metadata": {},
   "outputs": [],
   "source": [
    "cust(Name='Ajay', Surname='Sharma', Mno=9999888877)"
   ]
  },
  {
   "cell_type": "code",
   "execution_count": null,
   "id": "f80fb3f5",
   "metadata": {},
   "outputs": [],
   "source": [
    "def milage(**data):\n",
    "    argm = list(data.keys())\n",
    "    milage = data[argm[0]]/data[argm[1]]\n",
    "    return round(milage,2)"
   ]
  },
  {
   "cell_type": "code",
   "execution_count": null,
   "id": "f13fe888",
   "metadata": {},
   "outputs": [],
   "source": [
    "milage(d=350,fuel=12)"
   ]
  },
  {
   "cell_type": "code",
   "execution_count": null,
   "id": "46e657dd",
   "metadata": {},
   "outputs": [],
   "source": [
    "D = {'d':350,'fuel':12}\n",
    "D"
   ]
  },
  {
   "cell_type": "code",
   "execution_count": null,
   "id": "b74bc924",
   "metadata": {},
   "outputs": [],
   "source": [
    "list(D.keys())[1]"
   ]
  },
  {
   "cell_type": "code",
   "execution_count": null,
   "id": "e8644885",
   "metadata": {},
   "outputs": [],
   "source": [
    "D['d']/D['fuel']"
   ]
  },
  {
   "cell_type": "code",
   "execution_count": null,
   "id": "b58eff6e",
   "metadata": {},
   "outputs": [],
   "source": [
    "list(D.keys())"
   ]
  },
  {
   "cell_type": "markdown",
   "id": "fb6ca51e",
   "metadata": {},
   "source": [
    "## Lambda Functions"
   ]
  },
  {
   "cell_type": "raw",
   "id": "5cfa46b9",
   "metadata": {},
   "source": [
    "Lambda functions are anonymous, i.e. to say they have no names\n",
    "● The lambda is a keyword\n",
    "● It is a simple one-line function\n",
    "● No def or return keyword to be used with a lambda function\n",
    "\n",
    "(lambda parameters: (return)(operation))(arguments)"
   ]
  },
  {
   "cell_type": "code",
   "execution_count": null,
   "id": "14e92853",
   "metadata": {},
   "outputs": [],
   "source": [
    "def square(x):\n",
    "    return x**2"
   ]
  },
  {
   "cell_type": "code",
   "execution_count": null,
   "id": "3a313f31",
   "metadata": {},
   "outputs": [],
   "source": [
    "square(5)"
   ]
  },
  {
   "cell_type": "code",
   "execution_count": null,
   "id": "cc392685",
   "metadata": {},
   "outputs": [],
   "source": [
    "(lambda x: x**2)(7)"
   ]
  },
  {
   "cell_type": "code",
   "execution_count": null,
   "id": "c1a4acbd",
   "metadata": {},
   "outputs": [],
   "source": [
    "(lambda x: x**2)(5)"
   ]
  },
  {
   "cell_type": "code",
   "execution_count": null,
   "id": "a214d7ef",
   "metadata": {},
   "outputs": [],
   "source": [
    "(lambda x,y: x**2 + y**2)(5,2)"
   ]
  },
  {
   "cell_type": "code",
   "execution_count": null,
   "id": "4b4dfba5",
   "metadata": {},
   "outputs": [],
   "source": [
    "(lambda x,y: x if x>y else y)(7,15)"
   ]
  },
  {
   "cell_type": "code",
   "execution_count": null,
   "id": "ed0c253d",
   "metadata": {},
   "outputs": [],
   "source": [
    "sqr = lambda x: x**2"
   ]
  },
  {
   "cell_type": "code",
   "execution_count": null,
   "id": "f0de8d9e",
   "metadata": {},
   "outputs": [],
   "source": [
    "sqr(13)"
   ]
  },
  {
   "cell_type": "raw",
   "id": "542ec4c9",
   "metadata": {},
   "source": [
    "Q. Define a lambda function that takes weight and height as argument and returns athe BMI"
   ]
  },
  {
   "cell_type": "code",
   "execution_count": null,
   "id": "ddcfc562",
   "metadata": {},
   "outputs": [],
   "source": [
    "bmi = lambda height,weight : weight/(height**2)"
   ]
  },
  {
   "cell_type": "code",
   "execution_count": null,
   "id": "b42735b2",
   "metadata": {},
   "outputs": [],
   "source": [
    "round(bmi(1.8,89),2)"
   ]
  },
  {
   "cell_type": "code",
   "execution_count": null,
   "id": "832bd852",
   "metadata": {},
   "outputs": [],
   "source": [
    "(lambda *num : sum(num)/len(num))(23,45,21,56)"
   ]
  },
  {
   "cell_type": "code",
   "execution_count": null,
   "id": "f7b7f37d",
   "metadata": {},
   "outputs": [],
   "source": [
    "(lambda p,r=5,t=3 : (p*r*t)/100)(2500)"
   ]
  },
  {
   "cell_type": "code",
   "execution_count": null,
   "id": "947734a3",
   "metadata": {},
   "outputs": [],
   "source": [
    "(lambda p,r=5,t=3 : (p*r*t)/100)(2500,t=7)"
   ]
  },
  {
   "cell_type": "markdown",
   "id": "331a8efe",
   "metadata": {},
   "source": [
    "## Use of lambda (map,filter,reduce ,accumulate)"
   ]
  },
  {
   "cell_type": "code",
   "execution_count": 52,
   "id": "f41df091",
   "metadata": {},
   "outputs": [],
   "source": [
    "li = [23,45,21,56]"
   ]
  },
  {
   "cell_type": "code",
   "execution_count": 53,
   "id": "93731de2",
   "metadata": {},
   "outputs": [
    {
     "data": {
      "text/plain": [
       "[529, 2025, 441, 3136]"
      ]
     },
     "execution_count": 53,
     "metadata": {},
     "output_type": "execute_result"
    }
   ],
   "source": [
    "[i**2 for i in li]"
   ]
  },
  {
   "cell_type": "markdown",
   "id": "3df56b86",
   "metadata": {},
   "source": [
    "### map() -->  usually the operation is arithmatic in nature"
   ]
  },
  {
   "cell_type": "code",
   "execution_count": 61,
   "id": "17ef16d3",
   "metadata": {},
   "outputs": [
    {
     "data": {
      "text/plain": [
       "(529, 2025, 441, 3136)"
      ]
     },
     "execution_count": 61,
     "metadata": {},
     "output_type": "execute_result"
    }
   ],
   "source": [
    "tuple(map(lambda x: x**2,li))"
   ]
  },
  {
   "cell_type": "code",
   "execution_count": 62,
   "id": "3907b483",
   "metadata": {},
   "outputs": [
    {
     "data": {
      "text/plain": [
       "[529, 2025, 441, 3136]"
      ]
     },
     "execution_count": 62,
     "metadata": {},
     "output_type": "execute_result"
    }
   ],
   "source": [
    "[x**2 for x in li]"
   ]
  },
  {
   "cell_type": "code",
   "execution_count": 63,
   "id": "57724ca6",
   "metadata": {},
   "outputs": [
    {
     "data": {
      "text/plain": [
       "[20, 42, 18, 53]"
      ]
     },
     "execution_count": 63,
     "metadata": {},
     "output_type": "execute_result"
    }
   ],
   "source": [
    "list(map(lambda x: x-3,li))"
   ]
  },
  {
   "cell_type": "code",
   "execution_count": 64,
   "id": "54a8f5ca",
   "metadata": {},
   "outputs": [],
   "source": [
    "l1 = [1,2,3,4]\n",
    "l2 = [5,6,7,8]"
   ]
  },
  {
   "cell_type": "code",
   "execution_count": 65,
   "id": "578ab3ec",
   "metadata": {},
   "outputs": [
    {
     "data": {
      "text/plain": [
       "[6, 8, 10, 12]"
      ]
     },
     "execution_count": 65,
     "metadata": {},
     "output_type": "execute_result"
    }
   ],
   "source": [
    "[i+j for i,j in zip(l1,l2)]"
   ]
  },
  {
   "cell_type": "code",
   "execution_count": 66,
   "id": "8fec0fde",
   "metadata": {},
   "outputs": [
    {
     "data": {
      "text/plain": [
       "[6, 8, 10, 12]"
      ]
     },
     "execution_count": 66,
     "metadata": {},
     "output_type": "execute_result"
    }
   ],
   "source": [
    "list(map(lambda x,y: x+y,l1,l2))"
   ]
  },
  {
   "cell_type": "code",
   "execution_count": 68,
   "id": "d0c7b2b3",
   "metadata": {},
   "outputs": [
    {
     "data": {
      "text/plain": [
       "[23, 45, 21, 56]"
      ]
     },
     "execution_count": 68,
     "metadata": {},
     "output_type": "execute_result"
    }
   ],
   "source": [
    "li"
   ]
  },
  {
   "cell_type": "markdown",
   "id": "43e526d7",
   "metadata": {},
   "source": [
    "### filter() --> usually the operation is boolean expression"
   ]
  },
  {
   "cell_type": "code",
   "execution_count": 67,
   "id": "a3c2905d",
   "metadata": {},
   "outputs": [
    {
     "data": {
      "text/plain": [
       "[45, 21]"
      ]
     },
     "execution_count": 67,
     "metadata": {},
     "output_type": "execute_result"
    }
   ],
   "source": [
    "list(filter(lambda x: x%3==0,li))  "
   ]
  },
  {
   "cell_type": "code",
   "execution_count": 69,
   "id": "01d39353",
   "metadata": {},
   "outputs": [
    {
     "data": {
      "text/plain": [
       "[False, True, True, False]"
      ]
     },
     "execution_count": 69,
     "metadata": {},
     "output_type": "execute_result"
    }
   ],
   "source": [
    "list(map(lambda x: x%3==0,li))"
   ]
  },
  {
   "cell_type": "raw",
   "id": "9136a6e4",
   "metadata": {},
   "source": [
    "Q. li = ['Apple','Kiwi','Mango','Banana','Papaya','Pear'] \n",
    "1. create a list of all the fruits which have 'a' in name\n",
    "2. create a list of length of the fruit names.\n",
    "3. create a dict with name of fruit as key and length of each fruit name as value."
   ]
  },
  {
   "cell_type": "code",
   "execution_count": 70,
   "id": "1bb60551",
   "metadata": {},
   "outputs": [],
   "source": [
    "li = ['Apple','Kiwi','Mango','Banana','Papaya','Pear'] "
   ]
  },
  {
   "cell_type": "code",
   "execution_count": 71,
   "id": "fe93f896",
   "metadata": {},
   "outputs": [
    {
     "data": {
      "text/plain": [
       "['Mango', 'Banana', 'Papaya', 'Pear']"
      ]
     },
     "execution_count": 71,
     "metadata": {},
     "output_type": "execute_result"
    }
   ],
   "source": [
    "list(filter(lambda x:'a'in x,li))"
   ]
  },
  {
   "cell_type": "code",
   "execution_count": 72,
   "id": "ed114189",
   "metadata": {},
   "outputs": [
    {
     "data": {
      "text/plain": [
       "[5, 4, 5, 6, 6, 4]"
      ]
     },
     "execution_count": 72,
     "metadata": {},
     "output_type": "execute_result"
    }
   ],
   "source": [
    "list(map(lambda x:len(x),li))"
   ]
  },
  {
   "cell_type": "code",
   "execution_count": 73,
   "id": "584fbac6",
   "metadata": {},
   "outputs": [
    {
     "data": {
      "text/plain": [
       "{'Apple': 5, 'Kiwi': 4, 'Mango': 5, 'Banana': 6, 'Papaya': 6, 'Pear': 4}"
      ]
     },
     "execution_count": 73,
     "metadata": {},
     "output_type": "execute_result"
    }
   ],
   "source": [
    "dict(map(lambda x: (x,len(x)),li))"
   ]
  },
  {
   "cell_type": "markdown",
   "id": "05f9c5d4",
   "metadata": {},
   "source": [
    "## reduce and accumulate"
   ]
  },
  {
   "cell_type": "code",
   "execution_count": 74,
   "id": "be32152a",
   "metadata": {},
   "outputs": [],
   "source": [
    "from functools import reduce\n",
    "from itertools import accumulate"
   ]
  },
  {
   "cell_type": "code",
   "execution_count": 75,
   "id": "a284e095",
   "metadata": {},
   "outputs": [
    {
     "data": {
      "text/plain": [
       "[2, 3, 4, 5]"
      ]
     },
     "execution_count": 75,
     "metadata": {},
     "output_type": "execute_result"
    }
   ],
   "source": [
    "li=[2,3,4,5]\n",
    "li"
   ]
  },
  {
   "cell_type": "code",
   "execution_count": 76,
   "id": "0c83c200",
   "metadata": {},
   "outputs": [],
   "source": [
    "# x+y (operation)\n",
    "# 2+3 = 5\n",
    "# 5+4 = 9\n",
    "# 9+5 = 14\n",
    "\n",
    "# REDUCE : 14\n",
    "# ACCUMULATE: 2,5,9,14"
   ]
  },
  {
   "cell_type": "code",
   "execution_count": 77,
   "id": "5a53c976",
   "metadata": {},
   "outputs": [
    {
     "data": {
      "text/plain": [
       "14"
      ]
     },
     "execution_count": 77,
     "metadata": {},
     "output_type": "execute_result"
    }
   ],
   "source": [
    "reduce(lambda x,y: x+y,li)"
   ]
  },
  {
   "cell_type": "code",
   "execution_count": 78,
   "id": "6fa3f178",
   "metadata": {},
   "outputs": [
    {
     "data": {
      "text/plain": [
       "[2, 5, 9, 14]"
      ]
     },
     "execution_count": 78,
     "metadata": {},
     "output_type": "execute_result"
    }
   ],
   "source": [
    "list(accumulate(li,lambda x,y: x+y))"
   ]
  },
  {
   "cell_type": "raw",
   "id": "916ad374",
   "metadata": {},
   "source": [
    "Q. Determining the maximum of a list of numerical values by using reduce:"
   ]
  },
  {
   "cell_type": "code",
   "execution_count": 79,
   "id": "71288997",
   "metadata": {},
   "outputs": [
    {
     "data": {
      "text/plain": [
       "[2, 5, 8, 9, 7, 10, 12]"
      ]
     },
     "execution_count": 79,
     "metadata": {},
     "output_type": "execute_result"
    }
   ],
   "source": [
    "li = [2,5,8,9,7,10,12]\n",
    "li"
   ]
  },
  {
   "cell_type": "code",
   "execution_count": 80,
   "id": "dc1c932a",
   "metadata": {},
   "outputs": [
    {
     "data": {
      "text/plain": [
       "12"
      ]
     },
     "execution_count": 80,
     "metadata": {},
     "output_type": "execute_result"
    }
   ],
   "source": [
    "reduce(lambda x,y: x if x>y else y,li)"
   ]
  },
  {
   "cell_type": "code",
   "execution_count": 83,
   "id": "f075d5db",
   "metadata": {},
   "outputs": [
    {
     "data": {
      "text/plain": [
       "12"
      ]
     },
     "execution_count": 83,
     "metadata": {},
     "output_type": "execute_result"
    }
   ],
   "source": [
    "reduce(lambda x,y: max(x,y),li)"
   ]
  },
  {
   "attachments": {
    "image.png": {
     "image/png": "[encoded data removed]"
    }
   },
   "cell_type": "markdown",
   "id": "7f9df749",
   "metadata": {},
   "source": [
    "![image.png](attachment:image.png)"
   ]
  },
  {
   "cell_type": "markdown",
   "id": "cfaa675c",
   "metadata": {},
   "source": [
    "## Recursive function"
   ]
  },
  {
   "cell_type": "raw",
   "id": "5bed3835",
   "metadata": {},
   "source": [
    "A recursive function is a function defined in terms of itself via self-referential expressions.\n",
    "\n",
    "The function will continue to call itself and repeat its behavior until some condition is met to return a result."
   ]
  },
  {
   "cell_type": "code",
   "execution_count": null,
   "id": "4f1e9d49",
   "metadata": {},
   "outputs": [],
   "source": [
    "def sum_of_n(n):\n",
    "    if n==1:\n",
    "        return 1\n",
    "    res = n + sum_of_n(n-1)\n",
    "    return res "
   ]
  },
  {
   "cell_type": "code",
   "execution_count": null,
   "id": "3198bbe6",
   "metadata": {},
   "outputs": [],
   "source": [
    "sum_of_n(4)"
   ]
  },
  {
   "cell_type": "code",
   "execution_count": null,
   "id": "d210486b",
   "metadata": {},
   "outputs": [],
   "source": [
    "# Lets see how it is working"
   ]
  },
  {
   "cell_type": "code",
   "execution_count": null,
   "id": "6d0cbf3f",
   "metadata": {},
   "outputs": [],
   "source": [
    "def sum_of_n(n):\n",
    "    print('Here sum_of_n is called with n=',n)\n",
    "    if n==1:\n",
    "        return 1\n",
    "    res = n + sum_of_n(n-1)\n",
    "    print('Here res is sum of',n,'and sum_of_n(',n-1,') is',res)\n",
    "    return res"
   ]
  },
  {
   "cell_type": "code",
   "execution_count": null,
   "id": "a757734f",
   "metadata": {},
   "outputs": [],
   "source": [
    "sum_of_n(4)"
   ]
  },
  {
   "cell_type": "raw",
   "id": "34ff6b89",
   "metadata": {},
   "source": [
    "Q. Return factorial of a number using recursive function"
   ]
  }
 ],
 "metadata": {
  "kernelspec": {
   "display_name": "Python 3 (ipykernel)",
   "language": "python",
   "name": "python3"
  },
  "language_info": {
   "codemirror_mode": {
    "name": "ipython",
    "version": 3
   },
   "file_extension": ".py",
   "mimetype": "text/x-python",
   "name": "python",
   "nbconvert_exporter": "python",
   "pygments_lexer": "ipython3",
   "version": "3.9.12"
  }
 },
 "nbformat": 4,
 "nbformat_minor": 5
}
